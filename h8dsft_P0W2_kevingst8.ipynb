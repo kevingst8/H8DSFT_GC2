{
  "nbformat": 4,
  "nbformat_minor": 0,
  "metadata": {
    "colab": {
      "provenance": []
    },
    "kernelspec": {
      "name": "python3",
      "display_name": "Python 3"
    },
    "language_info": {
      "name": "python"
    }
  },
  "cells": [
    {
      "cell_type": "markdown",
      "source": [
        "> GRADED CHALLENGE 2 PHASE 0 WEEK 2"
      ],
      "metadata": {
        "id": "o3D361md-65u"
      }
    },
    {
      "cell_type": "markdown",
      "source": [
        "# PERKENALAN\n",
        "- Belajar menganalisa permasalahan statement yang ingin dibahas.\n",
        "\n",
        "# LATAR BELAKANG PERMASALAHAN\n",
        "- Menganalisa sistem pembuangan dan pengelolan sampah di kota Austin\n",
        "\n",
        "# PROBLEM STATEMENT YANG DIBAHAS\n",
        "- Mengelola data menggunakan ilmu matematika seperti statistik dan kalkulus, kita dapat memberikan saran ke pemerintah kota Austin sistem apa yang kita tambahkan atau lakukan untuk pembuangan dan pengelolaan sampah pada kota Austin.\n",
        "\n",
        "# SQL BIGQUERY\n",
        "- Data yang didapat merupakan data dari Google Cloud Big Query pada tabel \"waste_and_diversion\" dengan dataset \"austin_waste\". Query yang digunakan hanya kolom berikut : \"report_date\", \"load_time\", \"load_type\", \"load_weight\", \"dropoff_site\" untuk tahun 2021 saja."
      ],
      "metadata": {
        "id": "YiVo6dDKBoL6"
      }
    },
    {
      "cell_type": "markdown",
      "source": [
        "> LIBRARY"
      ],
      "metadata": {
        "id": "ekjbmuYOCuss"
      }
    },
    {
      "cell_type": "code",
      "source": [
        "# Import Library\n",
        "import pandas as pd\n",
        "import numpy as np\n",
        "import scipy as sp\n",
        "import scipy.stats as stats\n",
        "import matplotlib.pyplot as plt\n",
        "import seaborn as sns\n",
        "\n",
        "# Mengecek Sensitive Case\n",
        "print('Succesed!')"
      ],
      "metadata": {
        "id": "Db_qOJDI--hw",
        "outputId": "e0303bc7-635b-4af0-d2cf-0a75e990e661",
        "colab": {
          "base_uri": "https://localhost:8080/"
        }
      },
      "execution_count": 1,
      "outputs": [
        {
          "output_type": "stream",
          "name": "stdout",
          "text": [
            "Succesed!\n"
          ]
        }
      ]
    },
    {
      "cell_type": "markdown",
      "source": [
        "> DATA LOADING"
      ],
      "metadata": {
        "id": "Q1TCKZifDdP1"
      }
    },
    {
      "cell_type": "code",
      "source": [
        "# Load Data\n",
        "df = pd.read_csv(\"https://github.com/kevingst8/H8DSFT_GC2/blob/main/waste_diversion.csv?raw=true\")\n",
        "\n",
        "#Menampilkan 5 baris teratas\n",
        "df.head()"
      ],
      "metadata": {
        "id": "hsUc2vFzDazS",
        "outputId": "c99f1120-b391-4186-eac9-f5fb4cde5ad8",
        "colab": {
          "base_uri": "https://localhost:8080/",
          "height": 206
        }
      },
      "execution_count": 2,
      "outputs": [
        {
          "output_type": "execute_result",
          "data": {
            "text/plain": [
              "  report_date load_type                       load_time  load_weight  \\\n",
              "0  2021-07-08     TIRES  2021-07-08 12:00:00.000000 UTC       2260.0   \n",
              "1  2021-07-08     TIRES  2021-07-08 11:00:00.000000 UTC       1260.0   \n",
              "2  2021-07-08     TIRES  2021-07-08 03:00:00.000000 UTC        800.0   \n",
              "3  2021-05-01     TIRES  2021-05-01 12:29:00.000000 UTC        760.0   \n",
              "4  2021-07-03     TIRES  2021-07-03 12:09:00.000000 UTC       1400.0   \n",
              "\n",
              "  dropoff_site  \n",
              "0          MRF  \n",
              "1          MRF  \n",
              "2          MRF  \n",
              "3          MRF  \n",
              "4          MRF  "
            ],
            "text/html": [
              "\n",
              "  <div id=\"df-d24beab4-9ecf-43fa-bd25-ae29b0f51141\">\n",
              "    <div class=\"colab-df-container\">\n",
              "      <div>\n",
              "<style scoped>\n",
              "    .dataframe tbody tr th:only-of-type {\n",
              "        vertical-align: middle;\n",
              "    }\n",
              "\n",
              "    .dataframe tbody tr th {\n",
              "        vertical-align: top;\n",
              "    }\n",
              "\n",
              "    .dataframe thead th {\n",
              "        text-align: right;\n",
              "    }\n",
              "</style>\n",
              "<table border=\"1\" class=\"dataframe\">\n",
              "  <thead>\n",
              "    <tr style=\"text-align: right;\">\n",
              "      <th></th>\n",
              "      <th>report_date</th>\n",
              "      <th>load_type</th>\n",
              "      <th>load_time</th>\n",
              "      <th>load_weight</th>\n",
              "      <th>dropoff_site</th>\n",
              "    </tr>\n",
              "  </thead>\n",
              "  <tbody>\n",
              "    <tr>\n",
              "      <th>0</th>\n",
              "      <td>2021-07-08</td>\n",
              "      <td>TIRES</td>\n",
              "      <td>2021-07-08 12:00:00.000000 UTC</td>\n",
              "      <td>2260.0</td>\n",
              "      <td>MRF</td>\n",
              "    </tr>\n",
              "    <tr>\n",
              "      <th>1</th>\n",
              "      <td>2021-07-08</td>\n",
              "      <td>TIRES</td>\n",
              "      <td>2021-07-08 11:00:00.000000 UTC</td>\n",
              "      <td>1260.0</td>\n",
              "      <td>MRF</td>\n",
              "    </tr>\n",
              "    <tr>\n",
              "      <th>2</th>\n",
              "      <td>2021-07-08</td>\n",
              "      <td>TIRES</td>\n",
              "      <td>2021-07-08 03:00:00.000000 UTC</td>\n",
              "      <td>800.0</td>\n",
              "      <td>MRF</td>\n",
              "    </tr>\n",
              "    <tr>\n",
              "      <th>3</th>\n",
              "      <td>2021-05-01</td>\n",
              "      <td>TIRES</td>\n",
              "      <td>2021-05-01 12:29:00.000000 UTC</td>\n",
              "      <td>760.0</td>\n",
              "      <td>MRF</td>\n",
              "    </tr>\n",
              "    <tr>\n",
              "      <th>4</th>\n",
              "      <td>2021-07-03</td>\n",
              "      <td>TIRES</td>\n",
              "      <td>2021-07-03 12:09:00.000000 UTC</td>\n",
              "      <td>1400.0</td>\n",
              "      <td>MRF</td>\n",
              "    </tr>\n",
              "  </tbody>\n",
              "</table>\n",
              "</div>\n",
              "      <button class=\"colab-df-convert\" onclick=\"convertToInteractive('df-d24beab4-9ecf-43fa-bd25-ae29b0f51141')\"\n",
              "              title=\"Convert this dataframe to an interactive table.\"\n",
              "              style=\"display:none;\">\n",
              "        \n",
              "  <svg xmlns=\"http://www.w3.org/2000/svg\" height=\"24px\"viewBox=\"0 0 24 24\"\n",
              "       width=\"24px\">\n",
              "    <path d=\"M0 0h24v24H0V0z\" fill=\"none\"/>\n",
              "    <path d=\"M18.56 5.44l.94 2.06.94-2.06 2.06-.94-2.06-.94-.94-2.06-.94 2.06-2.06.94zm-11 1L8.5 8.5l.94-2.06 2.06-.94-2.06-.94L8.5 2.5l-.94 2.06-2.06.94zm10 10l.94 2.06.94-2.06 2.06-.94-2.06-.94-.94-2.06-.94 2.06-2.06.94z\"/><path d=\"M17.41 7.96l-1.37-1.37c-.4-.4-.92-.59-1.43-.59-.52 0-1.04.2-1.43.59L10.3 9.45l-7.72 7.72c-.78.78-.78 2.05 0 2.83L4 21.41c.39.39.9.59 1.41.59.51 0 1.02-.2 1.41-.59l7.78-7.78 2.81-2.81c.8-.78.8-2.07 0-2.86zM5.41 20L4 18.59l7.72-7.72 1.47 1.35L5.41 20z\"/>\n",
              "  </svg>\n",
              "      </button>\n",
              "      \n",
              "  <style>\n",
              "    .colab-df-container {\n",
              "      display:flex;\n",
              "      flex-wrap:wrap;\n",
              "      gap: 12px;\n",
              "    }\n",
              "\n",
              "    .colab-df-convert {\n",
              "      background-color: #E8F0FE;\n",
              "      border: none;\n",
              "      border-radius: 50%;\n",
              "      cursor: pointer;\n",
              "      display: none;\n",
              "      fill: #1967D2;\n",
              "      height: 32px;\n",
              "      padding: 0 0 0 0;\n",
              "      width: 32px;\n",
              "    }\n",
              "\n",
              "    .colab-df-convert:hover {\n",
              "      background-color: #E2EBFA;\n",
              "      box-shadow: 0px 1px 2px rgba(60, 64, 67, 0.3), 0px 1px 3px 1px rgba(60, 64, 67, 0.15);\n",
              "      fill: #174EA6;\n",
              "    }\n",
              "\n",
              "    [theme=dark] .colab-df-convert {\n",
              "      background-color: #3B4455;\n",
              "      fill: #D2E3FC;\n",
              "    }\n",
              "\n",
              "    [theme=dark] .colab-df-convert:hover {\n",
              "      background-color: #434B5C;\n",
              "      box-shadow: 0px 1px 3px 1px rgba(0, 0, 0, 0.15);\n",
              "      filter: drop-shadow(0px 1px 2px rgba(0, 0, 0, 0.3));\n",
              "      fill: #FFFFFF;\n",
              "    }\n",
              "  </style>\n",
              "\n",
              "      <script>\n",
              "        const buttonEl =\n",
              "          document.querySelector('#df-d24beab4-9ecf-43fa-bd25-ae29b0f51141 button.colab-df-convert');\n",
              "        buttonEl.style.display =\n",
              "          google.colab.kernel.accessAllowed ? 'block' : 'none';\n",
              "\n",
              "        async function convertToInteractive(key) {\n",
              "          const element = document.querySelector('#df-d24beab4-9ecf-43fa-bd25-ae29b0f51141');\n",
              "          const dataTable =\n",
              "            await google.colab.kernel.invokeFunction('convertToInteractive',\n",
              "                                                     [key], {});\n",
              "          if (!dataTable) return;\n",
              "\n",
              "          const docLinkHtml = 'Like what you see? Visit the ' +\n",
              "            '<a target=\"_blank\" href=https://colab.research.google.com/notebooks/data_table.ipynb>data table notebook</a>'\n",
              "            + ' to learn more about interactive tables.';\n",
              "          element.innerHTML = '';\n",
              "          dataTable['output_type'] = 'display_data';\n",
              "          await google.colab.output.renderOutput(dataTable, element);\n",
              "          const docLink = document.createElement('div');\n",
              "          docLink.innerHTML = docLinkHtml;\n",
              "          element.appendChild(docLink);\n",
              "        }\n",
              "      </script>\n",
              "    </div>\n",
              "  </div>\n",
              "  "
            ]
          },
          "metadata": {},
          "execution_count": 2
        }
      ]
    },
    {
      "cell_type": "code",
      "source": [
        "# Menampilkan 5 baris terbawah\n",
        "df.tail()"
      ],
      "metadata": {
        "id": "r8wjguDbD-w7",
        "outputId": "576ddd76-69d1-4b8c-f0f2-81913c353d2e",
        "colab": {
          "base_uri": "https://localhost:8080/",
          "height": 206
        }
      },
      "execution_count": 3,
      "outputs": [
        {
          "output_type": "execute_result",
          "data": {
            "text/plain": [
              "      report_date       load_type                       load_time  \\\n",
              "26152  2021-03-01        ORGANICS  2021-03-01 11:26:00.000000 UTC   \n",
              "26153  2021-03-01        ORGANICS  2021-03-01 04:27:00.000000 UTC   \n",
              "26154  2021-03-01        ORGANICS  2021-03-01 05:55:00.000000 UTC   \n",
              "26155  2021-03-01        ORGANICS  2021-03-02 01:10:00.000000 UTC   \n",
              "26156  2021-03-01  RECYCLED METAL  2021-03-01 10:22:00.000000 UTC   \n",
              "\n",
              "       load_weight           dropoff_site  \n",
              "26152      12100.0       ORGANICS BY GOSH  \n",
              "26153      10900.0       ORGANICS BY GOSH  \n",
              "26154      21800.0       ORGANICS BY GOSH  \n",
              "26155       5640.0       ORGANICS BY GOSH  \n",
              "26156        360.0  AUSTIN IRON AND METAL  "
            ],
            "text/html": [
              "\n",
              "  <div id=\"df-da15b0c2-1c76-45df-aad0-81742771efa4\">\n",
              "    <div class=\"colab-df-container\">\n",
              "      <div>\n",
              "<style scoped>\n",
              "    .dataframe tbody tr th:only-of-type {\n",
              "        vertical-align: middle;\n",
              "    }\n",
              "\n",
              "    .dataframe tbody tr th {\n",
              "        vertical-align: top;\n",
              "    }\n",
              "\n",
              "    .dataframe thead th {\n",
              "        text-align: right;\n",
              "    }\n",
              "</style>\n",
              "<table border=\"1\" class=\"dataframe\">\n",
              "  <thead>\n",
              "    <tr style=\"text-align: right;\">\n",
              "      <th></th>\n",
              "      <th>report_date</th>\n",
              "      <th>load_type</th>\n",
              "      <th>load_time</th>\n",
              "      <th>load_weight</th>\n",
              "      <th>dropoff_site</th>\n",
              "    </tr>\n",
              "  </thead>\n",
              "  <tbody>\n",
              "    <tr>\n",
              "      <th>26152</th>\n",
              "      <td>2021-03-01</td>\n",
              "      <td>ORGANICS</td>\n",
              "      <td>2021-03-01 11:26:00.000000 UTC</td>\n",
              "      <td>12100.0</td>\n",
              "      <td>ORGANICS BY GOSH</td>\n",
              "    </tr>\n",
              "    <tr>\n",
              "      <th>26153</th>\n",
              "      <td>2021-03-01</td>\n",
              "      <td>ORGANICS</td>\n",
              "      <td>2021-03-01 04:27:00.000000 UTC</td>\n",
              "      <td>10900.0</td>\n",
              "      <td>ORGANICS BY GOSH</td>\n",
              "    </tr>\n",
              "    <tr>\n",
              "      <th>26154</th>\n",
              "      <td>2021-03-01</td>\n",
              "      <td>ORGANICS</td>\n",
              "      <td>2021-03-01 05:55:00.000000 UTC</td>\n",
              "      <td>21800.0</td>\n",
              "      <td>ORGANICS BY GOSH</td>\n",
              "    </tr>\n",
              "    <tr>\n",
              "      <th>26155</th>\n",
              "      <td>2021-03-01</td>\n",
              "      <td>ORGANICS</td>\n",
              "      <td>2021-03-02 01:10:00.000000 UTC</td>\n",
              "      <td>5640.0</td>\n",
              "      <td>ORGANICS BY GOSH</td>\n",
              "    </tr>\n",
              "    <tr>\n",
              "      <th>26156</th>\n",
              "      <td>2021-03-01</td>\n",
              "      <td>RECYCLED METAL</td>\n",
              "      <td>2021-03-01 10:22:00.000000 UTC</td>\n",
              "      <td>360.0</td>\n",
              "      <td>AUSTIN IRON AND METAL</td>\n",
              "    </tr>\n",
              "  </tbody>\n",
              "</table>\n",
              "</div>\n",
              "      <button class=\"colab-df-convert\" onclick=\"convertToInteractive('df-da15b0c2-1c76-45df-aad0-81742771efa4')\"\n",
              "              title=\"Convert this dataframe to an interactive table.\"\n",
              "              style=\"display:none;\">\n",
              "        \n",
              "  <svg xmlns=\"http://www.w3.org/2000/svg\" height=\"24px\"viewBox=\"0 0 24 24\"\n",
              "       width=\"24px\">\n",
              "    <path d=\"M0 0h24v24H0V0z\" fill=\"none\"/>\n",
              "    <path d=\"M18.56 5.44l.94 2.06.94-2.06 2.06-.94-2.06-.94-.94-2.06-.94 2.06-2.06.94zm-11 1L8.5 8.5l.94-2.06 2.06-.94-2.06-.94L8.5 2.5l-.94 2.06-2.06.94zm10 10l.94 2.06.94-2.06 2.06-.94-2.06-.94-.94-2.06-.94 2.06-2.06.94z\"/><path d=\"M17.41 7.96l-1.37-1.37c-.4-.4-.92-.59-1.43-.59-.52 0-1.04.2-1.43.59L10.3 9.45l-7.72 7.72c-.78.78-.78 2.05 0 2.83L4 21.41c.39.39.9.59 1.41.59.51 0 1.02-.2 1.41-.59l7.78-7.78 2.81-2.81c.8-.78.8-2.07 0-2.86zM5.41 20L4 18.59l7.72-7.72 1.47 1.35L5.41 20z\"/>\n",
              "  </svg>\n",
              "      </button>\n",
              "      \n",
              "  <style>\n",
              "    .colab-df-container {\n",
              "      display:flex;\n",
              "      flex-wrap:wrap;\n",
              "      gap: 12px;\n",
              "    }\n",
              "\n",
              "    .colab-df-convert {\n",
              "      background-color: #E8F0FE;\n",
              "      border: none;\n",
              "      border-radius: 50%;\n",
              "      cursor: pointer;\n",
              "      display: none;\n",
              "      fill: #1967D2;\n",
              "      height: 32px;\n",
              "      padding: 0 0 0 0;\n",
              "      width: 32px;\n",
              "    }\n",
              "\n",
              "    .colab-df-convert:hover {\n",
              "      background-color: #E2EBFA;\n",
              "      box-shadow: 0px 1px 2px rgba(60, 64, 67, 0.3), 0px 1px 3px 1px rgba(60, 64, 67, 0.15);\n",
              "      fill: #174EA6;\n",
              "    }\n",
              "\n",
              "    [theme=dark] .colab-df-convert {\n",
              "      background-color: #3B4455;\n",
              "      fill: #D2E3FC;\n",
              "    }\n",
              "\n",
              "    [theme=dark] .colab-df-convert:hover {\n",
              "      background-color: #434B5C;\n",
              "      box-shadow: 0px 1px 3px 1px rgba(0, 0, 0, 0.15);\n",
              "      filter: drop-shadow(0px 1px 2px rgba(0, 0, 0, 0.3));\n",
              "      fill: #FFFFFF;\n",
              "    }\n",
              "  </style>\n",
              "\n",
              "      <script>\n",
              "        const buttonEl =\n",
              "          document.querySelector('#df-da15b0c2-1c76-45df-aad0-81742771efa4 button.colab-df-convert');\n",
              "        buttonEl.style.display =\n",
              "          google.colab.kernel.accessAllowed ? 'block' : 'none';\n",
              "\n",
              "        async function convertToInteractive(key) {\n",
              "          const element = document.querySelector('#df-da15b0c2-1c76-45df-aad0-81742771efa4');\n",
              "          const dataTable =\n",
              "            await google.colab.kernel.invokeFunction('convertToInteractive',\n",
              "                                                     [key], {});\n",
              "          if (!dataTable) return;\n",
              "\n",
              "          const docLinkHtml = 'Like what you see? Visit the ' +\n",
              "            '<a target=\"_blank\" href=https://colab.research.google.com/notebooks/data_table.ipynb>data table notebook</a>'\n",
              "            + ' to learn more about interactive tables.';\n",
              "          element.innerHTML = '';\n",
              "          dataTable['output_type'] = 'display_data';\n",
              "          await google.colab.output.renderOutput(dataTable, element);\n",
              "          const docLink = document.createElement('div');\n",
              "          docLink.innerHTML = docLinkHtml;\n",
              "          element.appendChild(docLink);\n",
              "        }\n",
              "      </script>\n",
              "    </div>\n",
              "  </div>\n",
              "  "
            ]
          },
          "metadata": {},
          "execution_count": 3
        }
      ]
    },
    {
      "cell_type": "code",
      "source": [
        "# Total jumlah baris dan kolom\n",
        "df.shape"
      ],
      "metadata": {
        "id": "P81V4qMSEGEp",
        "outputId": "7b8f8025-1c58-4de5-c3fa-ddd25518b760",
        "colab": {
          "base_uri": "https://localhost:8080/"
        }
      },
      "execution_count": 4,
      "outputs": [
        {
          "output_type": "execute_result",
          "data": {
            "text/plain": [
              "(26157, 5)"
            ]
          },
          "metadata": {},
          "execution_count": 4
        }
      ]
    },
    {
      "cell_type": "markdown",
      "source": [
        "- dataset diatas memiliki 26.157 baris dan 5 kolom"
      ],
      "metadata": {
        "id": "YUG6JlaTEMRb"
      }
    },
    {
      "cell_type": "code",
      "source": [
        "# Menampilkan informasi\n",
        "df. info()"
      ],
      "metadata": {
        "id": "SDYBea0aETGg",
        "outputId": "6398f0a0-d738-4301-887a-c5656de066bd",
        "colab": {
          "base_uri": "https://localhost:8080/"
        }
      },
      "execution_count": 5,
      "outputs": [
        {
          "output_type": "stream",
          "name": "stdout",
          "text": [
            "<class 'pandas.core.frame.DataFrame'>\n",
            "RangeIndex: 26157 entries, 0 to 26156\n",
            "Data columns (total 5 columns):\n",
            " #   Column        Non-Null Count  Dtype  \n",
            "---  ------        --------------  -----  \n",
            " 0   report_date   26157 non-null  object \n",
            " 1   load_type     26157 non-null  object \n",
            " 2   load_time     26157 non-null  object \n",
            " 3   load_weight   25109 non-null  float64\n",
            " 4   dropoff_site  26157 non-null  object \n",
            "dtypes: float64(1), object(4)\n",
            "memory usage: 1021.9+ KB\n"
          ]
        }
      ]
    },
    {
      "cell_type": "markdown",
      "source": [
        "- Informasi terkait dataset diatas kolom \"report_date\", \"load_type\", \"load_time\" dan \"dropoff_site\" memiliki 26.157 nilai. Sedangkan pada kolom \"load_weight\" hanya 25.109 nilai, ini menunjukan terdapat missing value pada kolom."
      ],
      "metadata": {
        "id": "3AhI4GqfEZPU"
      }
    },
    {
      "cell_type": "code",
      "source": [
        "# Total jumlah baris yang terduplikasi\n",
        "df.duplicated().value_counts()"
      ],
      "metadata": {
        "id": "M05Vp8HlEdKU",
        "outputId": "f706054c-eede-4d53-9f63-066acc23cc00",
        "colab": {
          "base_uri": "https://localhost:8080/"
        }
      },
      "execution_count": 6,
      "outputs": [
        {
          "output_type": "execute_result",
          "data": {
            "text/plain": [
              "False    25712\n",
              "True       445\n",
              "dtype: int64"
            ]
          },
          "metadata": {},
          "execution_count": 6
        }
      ]
    },
    {
      "cell_type": "code",
      "source": [
        "# Menampilkan baris yang terduplikasi\n",
        "duplicate = df[df.duplicated()]\n",
        "duplicate.sort_values(by = [\"report_date\"])"
      ],
      "metadata": {
        "id": "-tZ_9RdqEitq",
        "outputId": "30a052e0-8dfc-4084-a132-5413451664ca",
        "colab": {
          "base_uri": "https://localhost:8080/",
          "height": 424
        }
      },
      "execution_count": 7,
      "outputs": [
        {
          "output_type": "execute_result",
          "data": {
            "text/plain": [
              "      report_date load_type                       load_time  load_weight  \\\n",
              "124    2021-01-01  SWEEPING  2021-01-01 12:00:00.000000 UTC          NaN   \n",
              "125    2021-01-01  SWEEPING  2021-01-01 12:00:00.000000 UTC          NaN   \n",
              "126    2021-01-01  SWEEPING  2021-01-01 12:00:00.000000 UTC          NaN   \n",
              "19133  2021-01-02  SWEEPING  2021-01-02 12:00:00.000000 UTC          NaN   \n",
              "19134  2021-01-02  SWEEPING  2021-01-02 12:00:00.000000 UTC          NaN   \n",
              "...           ...       ...                             ...          ...   \n",
              "206    2021-07-09     BRUSH  2021-07-09 05:40:00.000000 UTC       5500.0   \n",
              "148    2021-07-09  SWEEPING  2021-07-09 12:00:00.000000 UTC          NaN   \n",
              "47     2021-07-09  SWEEPING  2021-07-09 12:00:00.000000 UTC          NaN   \n",
              "109    2021-07-09  SWEEPING  2021-07-09 12:00:00.000000 UTC          NaN   \n",
              "120    2021-07-09  SWEEPING  2021-07-09 12:00:00.000000 UTC          NaN   \n",
              "\n",
              "       dropoff_site  \n",
              "124     ONION CREEK  \n",
              "125     ONION CREEK  \n",
              "126     ONION CREEK  \n",
              "19133   ONION CREEK  \n",
              "19134   ONION CREEK  \n",
              "...             ...  \n",
              "206    HORNSBY BEND  \n",
              "148     ONION CREEK  \n",
              "47      ONION CREEK  \n",
              "109     ONION CREEK  \n",
              "120     ONION CREEK  \n",
              "\n",
              "[445 rows x 5 columns]"
            ],
            "text/html": [
              "\n",
              "  <div id=\"df-8438c2dc-3110-477c-918a-b125944bdde4\">\n",
              "    <div class=\"colab-df-container\">\n",
              "      <div>\n",
              "<style scoped>\n",
              "    .dataframe tbody tr th:only-of-type {\n",
              "        vertical-align: middle;\n",
              "    }\n",
              "\n",
              "    .dataframe tbody tr th {\n",
              "        vertical-align: top;\n",
              "    }\n",
              "\n",
              "    .dataframe thead th {\n",
              "        text-align: right;\n",
              "    }\n",
              "</style>\n",
              "<table border=\"1\" class=\"dataframe\">\n",
              "  <thead>\n",
              "    <tr style=\"text-align: right;\">\n",
              "      <th></th>\n",
              "      <th>report_date</th>\n",
              "      <th>load_type</th>\n",
              "      <th>load_time</th>\n",
              "      <th>load_weight</th>\n",
              "      <th>dropoff_site</th>\n",
              "    </tr>\n",
              "  </thead>\n",
              "  <tbody>\n",
              "    <tr>\n",
              "      <th>124</th>\n",
              "      <td>2021-01-01</td>\n",
              "      <td>SWEEPING</td>\n",
              "      <td>2021-01-01 12:00:00.000000 UTC</td>\n",
              "      <td>NaN</td>\n",
              "      <td>ONION CREEK</td>\n",
              "    </tr>\n",
              "    <tr>\n",
              "      <th>125</th>\n",
              "      <td>2021-01-01</td>\n",
              "      <td>SWEEPING</td>\n",
              "      <td>2021-01-01 12:00:00.000000 UTC</td>\n",
              "      <td>NaN</td>\n",
              "      <td>ONION CREEK</td>\n",
              "    </tr>\n",
              "    <tr>\n",
              "      <th>126</th>\n",
              "      <td>2021-01-01</td>\n",
              "      <td>SWEEPING</td>\n",
              "      <td>2021-01-01 12:00:00.000000 UTC</td>\n",
              "      <td>NaN</td>\n",
              "      <td>ONION CREEK</td>\n",
              "    </tr>\n",
              "    <tr>\n",
              "      <th>19133</th>\n",
              "      <td>2021-01-02</td>\n",
              "      <td>SWEEPING</td>\n",
              "      <td>2021-01-02 12:00:00.000000 UTC</td>\n",
              "      <td>NaN</td>\n",
              "      <td>ONION CREEK</td>\n",
              "    </tr>\n",
              "    <tr>\n",
              "      <th>19134</th>\n",
              "      <td>2021-01-02</td>\n",
              "      <td>SWEEPING</td>\n",
              "      <td>2021-01-02 12:00:00.000000 UTC</td>\n",
              "      <td>NaN</td>\n",
              "      <td>ONION CREEK</td>\n",
              "    </tr>\n",
              "    <tr>\n",
              "      <th>...</th>\n",
              "      <td>...</td>\n",
              "      <td>...</td>\n",
              "      <td>...</td>\n",
              "      <td>...</td>\n",
              "      <td>...</td>\n",
              "    </tr>\n",
              "    <tr>\n",
              "      <th>206</th>\n",
              "      <td>2021-07-09</td>\n",
              "      <td>BRUSH</td>\n",
              "      <td>2021-07-09 05:40:00.000000 UTC</td>\n",
              "      <td>5500.0</td>\n",
              "      <td>HORNSBY BEND</td>\n",
              "    </tr>\n",
              "    <tr>\n",
              "      <th>148</th>\n",
              "      <td>2021-07-09</td>\n",
              "      <td>SWEEPING</td>\n",
              "      <td>2021-07-09 12:00:00.000000 UTC</td>\n",
              "      <td>NaN</td>\n",
              "      <td>ONION CREEK</td>\n",
              "    </tr>\n",
              "    <tr>\n",
              "      <th>47</th>\n",
              "      <td>2021-07-09</td>\n",
              "      <td>SWEEPING</td>\n",
              "      <td>2021-07-09 12:00:00.000000 UTC</td>\n",
              "      <td>NaN</td>\n",
              "      <td>ONION CREEK</td>\n",
              "    </tr>\n",
              "    <tr>\n",
              "      <th>109</th>\n",
              "      <td>2021-07-09</td>\n",
              "      <td>SWEEPING</td>\n",
              "      <td>2021-07-09 12:00:00.000000 UTC</td>\n",
              "      <td>NaN</td>\n",
              "      <td>ONION CREEK</td>\n",
              "    </tr>\n",
              "    <tr>\n",
              "      <th>120</th>\n",
              "      <td>2021-07-09</td>\n",
              "      <td>SWEEPING</td>\n",
              "      <td>2021-07-09 12:00:00.000000 UTC</td>\n",
              "      <td>NaN</td>\n",
              "      <td>ONION CREEK</td>\n",
              "    </tr>\n",
              "  </tbody>\n",
              "</table>\n",
              "<p>445 rows × 5 columns</p>\n",
              "</div>\n",
              "      <button class=\"colab-df-convert\" onclick=\"convertToInteractive('df-8438c2dc-3110-477c-918a-b125944bdde4')\"\n",
              "              title=\"Convert this dataframe to an interactive table.\"\n",
              "              style=\"display:none;\">\n",
              "        \n",
              "  <svg xmlns=\"http://www.w3.org/2000/svg\" height=\"24px\"viewBox=\"0 0 24 24\"\n",
              "       width=\"24px\">\n",
              "    <path d=\"M0 0h24v24H0V0z\" fill=\"none\"/>\n",
              "    <path d=\"M18.56 5.44l.94 2.06.94-2.06 2.06-.94-2.06-.94-.94-2.06-.94 2.06-2.06.94zm-11 1L8.5 8.5l.94-2.06 2.06-.94-2.06-.94L8.5 2.5l-.94 2.06-2.06.94zm10 10l.94 2.06.94-2.06 2.06-.94-2.06-.94-.94-2.06-.94 2.06-2.06.94z\"/><path d=\"M17.41 7.96l-1.37-1.37c-.4-.4-.92-.59-1.43-.59-.52 0-1.04.2-1.43.59L10.3 9.45l-7.72 7.72c-.78.78-.78 2.05 0 2.83L4 21.41c.39.39.9.59 1.41.59.51 0 1.02-.2 1.41-.59l7.78-7.78 2.81-2.81c.8-.78.8-2.07 0-2.86zM5.41 20L4 18.59l7.72-7.72 1.47 1.35L5.41 20z\"/>\n",
              "  </svg>\n",
              "      </button>\n",
              "      \n",
              "  <style>\n",
              "    .colab-df-container {\n",
              "      display:flex;\n",
              "      flex-wrap:wrap;\n",
              "      gap: 12px;\n",
              "    }\n",
              "\n",
              "    .colab-df-convert {\n",
              "      background-color: #E8F0FE;\n",
              "      border: none;\n",
              "      border-radius: 50%;\n",
              "      cursor: pointer;\n",
              "      display: none;\n",
              "      fill: #1967D2;\n",
              "      height: 32px;\n",
              "      padding: 0 0 0 0;\n",
              "      width: 32px;\n",
              "    }\n",
              "\n",
              "    .colab-df-convert:hover {\n",
              "      background-color: #E2EBFA;\n",
              "      box-shadow: 0px 1px 2px rgba(60, 64, 67, 0.3), 0px 1px 3px 1px rgba(60, 64, 67, 0.15);\n",
              "      fill: #174EA6;\n",
              "    }\n",
              "\n",
              "    [theme=dark] .colab-df-convert {\n",
              "      background-color: #3B4455;\n",
              "      fill: #D2E3FC;\n",
              "    }\n",
              "\n",
              "    [theme=dark] .colab-df-convert:hover {\n",
              "      background-color: #434B5C;\n",
              "      box-shadow: 0px 1px 3px 1px rgba(0, 0, 0, 0.15);\n",
              "      filter: drop-shadow(0px 1px 2px rgba(0, 0, 0, 0.3));\n",
              "      fill: #FFFFFF;\n",
              "    }\n",
              "  </style>\n",
              "\n",
              "      <script>\n",
              "        const buttonEl =\n",
              "          document.querySelector('#df-8438c2dc-3110-477c-918a-b125944bdde4 button.colab-df-convert');\n",
              "        buttonEl.style.display =\n",
              "          google.colab.kernel.accessAllowed ? 'block' : 'none';\n",
              "\n",
              "        async function convertToInteractive(key) {\n",
              "          const element = document.querySelector('#df-8438c2dc-3110-477c-918a-b125944bdde4');\n",
              "          const dataTable =\n",
              "            await google.colab.kernel.invokeFunction('convertToInteractive',\n",
              "                                                     [key], {});\n",
              "          if (!dataTable) return;\n",
              "\n",
              "          const docLinkHtml = 'Like what you see? Visit the ' +\n",
              "            '<a target=\"_blank\" href=https://colab.research.google.com/notebooks/data_table.ipynb>data table notebook</a>'\n",
              "            + ' to learn more about interactive tables.';\n",
              "          element.innerHTML = '';\n",
              "          dataTable['output_type'] = 'display_data';\n",
              "          await google.colab.output.renderOutput(dataTable, element);\n",
              "          const docLink = document.createElement('div');\n",
              "          docLink.innerHTML = docLinkHtml;\n",
              "          element.appendChild(docLink);\n",
              "        }\n",
              "      </script>\n",
              "    </div>\n",
              "  </div>\n",
              "  "
            ]
          },
          "metadata": {},
          "execution_count": 7
        }
      ]
    },
    {
      "cell_type": "markdown",
      "source": [
        "- Tabel diatas menunjukan sebanyak 445 baris yang terduplikasi"
      ],
      "metadata": {
        "id": "rZnu6yP6ElOr"
      }
    },
    {
      "cell_type": "markdown",
      "source": [
        "> DATA CLEANING"
      ],
      "metadata": {
        "id": "nO_3-qNpEpTR"
      }
    },
    {
      "cell_type": "code",
      "source": [
        "# Menyalin dataset\n",
        "df_copy = df.copy()\n",
        "\n",
        "# Menghapus baris yang terduplikasi\n",
        "df_copy = df_copy.drop_duplicates()\n",
        "\n",
        "# Cek baris jika masih ada yang terduplikasi\n",
        "df_copy.duplicated().value_counts()"
      ],
      "metadata": {
        "id": "9RdPUx-vG31b",
        "outputId": "5a14da5e-6cea-47d7-d6a7-78fd060594d3",
        "colab": {
          "base_uri": "https://localhost:8080/"
        }
      },
      "execution_count": 8,
      "outputs": [
        {
          "output_type": "execute_result",
          "data": {
            "text/plain": [
              "False    25712\n",
              "dtype: int64"
            ]
          },
          "metadata": {},
          "execution_count": 8
        }
      ]
    },
    {
      "cell_type": "markdown",
      "source": [
        "- Baris yang teduplikasi sekarang sudah terhapus. Jumlah keseluruhan baris dataset sekarang adalah 25.712"
      ],
      "metadata": {
        "id": "zcd7EJsmLEcb"
      }
    },
    {
      "cell_type": "markdown",
      "source": [
        "> IDENTIFIKASI MISSING VALUE"
      ],
      "metadata": {
        "id": "wtlTxYSeLIbk"
      }
    },
    {
      "cell_type": "code",
      "source": [
        "# Indentifikasi kolom yang missing value\n",
        "df_copy.isnull().sum()"
      ],
      "metadata": {
        "id": "L1_FT8IuLNAB",
        "outputId": "ade4ae71-488c-40e4-c80e-0df109c2af2d",
        "colab": {
          "base_uri": "https://localhost:8080/"
        }
      },
      "execution_count": 9,
      "outputs": [
        {
          "output_type": "execute_result",
          "data": {
            "text/plain": [
              "report_date       0\n",
              "load_type         0\n",
              "load_time         0\n",
              "load_weight     629\n",
              "dropoff_site      0\n",
              "dtype: int64"
            ]
          },
          "metadata": {},
          "execution_count": 9
        }
      ]
    },
    {
      "cell_type": "markdown",
      "source": [
        "- Terdapat 629 baris dari total 25.712 baris atau sekitar 2.45% yang tidak memiliki nilai pada kolom \"load_weight\""
      ],
      "metadata": {
        "id": "9faga3PrLSba"
      }
    },
    {
      "cell_type": "code",
      "source": [
        "# Menghapus baris yang memiliki missing value\n",
        "df_copy.dropna(inplace = True)"
      ],
      "metadata": {
        "id": "mSkh6biVLTcM"
      },
      "execution_count": 10,
      "outputs": []
    },
    {
      "cell_type": "code",
      "source": [
        "# Baris yang sudah dibersihkan dari missing value\n",
        "df_copy.isnull().sum()"
      ],
      "metadata": {
        "id": "RI_V1XXELYDF",
        "outputId": "e5830269-63b9-4348-e7fa-b9f2583c9b2a",
        "colab": {
          "base_uri": "https://localhost:8080/"
        }
      },
      "execution_count": 11,
      "outputs": [
        {
          "output_type": "execute_result",
          "data": {
            "text/plain": [
              "report_date     0\n",
              "load_type       0\n",
              "load_time       0\n",
              "load_weight     0\n",
              "dropoff_site    0\n",
              "dtype: int64"
            ]
          },
          "metadata": {},
          "execution_count": 11
        }
      ]
    },
    {
      "cell_type": "code",
      "source": [
        "df_copy.shape"
      ],
      "metadata": {
        "id": "Rc1AstcVLaZ9",
        "outputId": "83754e3b-e2e5-4b4d-d8c9-ab6ec9a0c435",
        "colab": {
          "base_uri": "https://localhost:8080/"
        }
      },
      "execution_count": 12,
      "outputs": [
        {
          "output_type": "execute_result",
          "data": {
            "text/plain": [
              "(25083, 5)"
            ]
          },
          "metadata": {},
          "execution_count": 12
        }
      ]
    },
    {
      "cell_type": "markdown",
      "source": [
        "- Dataset sekarang sudah tidak memiliki missing value dan siap digunakan. Jumlah baris yang semula 25.712 menjadi 25.083 baris."
      ],
      "metadata": {
        "id": "SOPUVJyVLeyM"
      }
    },
    {
      "cell_type": "markdown",
      "source": [
        "> DATA EXPLORATION"
      ],
      "metadata": {
        "id": "wItnWrO1Lg05"
      }
    },
    {
      "cell_type": "code",
      "source": [
        "# Rentang waktu pengambilan data dengan sort by date\n",
        "df_copy.sort_values(by = [\"report_date\"])"
      ],
      "metadata": {
        "id": "-6DL12reLj-t",
        "outputId": "b5c14c1a-56f7-4c87-dcce-54715cccb895",
        "colab": {
          "base_uri": "https://localhost:8080/",
          "height": 424
        }
      },
      "execution_count": 13,
      "outputs": [
        {
          "output_type": "execute_result",
          "data": {
            "text/plain": [
              "      report_date            load_type                       load_time  \\\n",
              "19228  2021-01-02             ORGANICS  2021-01-04 07:04:00.000000 UTC   \n",
              "19161  2021-01-02  GARBAGE COLLECTIONS  2021-01-02 12:56:00.000000 UTC   \n",
              "19162  2021-01-02  GARBAGE COLLECTIONS  2021-01-02 01:42:00.000000 UTC   \n",
              "19163  2021-01-02         MIXED LITTER  2021-01-02 08:47:00.000000 UTC   \n",
              "19164  2021-01-02         MIXED LITTER  2021-01-02 11:34:00.000000 UTC   \n",
              "...           ...                  ...                             ...   \n",
              "211    2021-07-09                BRUSH  2021-07-09 06:00:00.000000 UTC   \n",
              "207    2021-07-09                BRUSH  2021-07-09 02:57:00.000000 UTC   \n",
              "208    2021-07-09                BRUSH  2021-07-09 03:45:00.000000 UTC   \n",
              "210    2021-07-09                BRUSH  2021-07-09 01:12:00.000000 UTC   \n",
              "205    2021-07-09                BRUSH  2021-07-09 05:40:00.000000 UTC   \n",
              "\n",
              "       load_weight      dropoff_site  \n",
              "19228       8460.0  ORGANICS BY GOSH  \n",
              "19161      17160.0      TDS LANDFILL  \n",
              "19162      15240.0      TDS LANDFILL  \n",
              "19163       4540.0      TDS LANDFILL  \n",
              "19164       6620.0      TDS LANDFILL  \n",
              "...            ...               ...  \n",
              "211         5500.0      HORNSBY BEND  \n",
              "207         5500.0      HORNSBY BEND  \n",
              "208         5500.0      HORNSBY BEND  \n",
              "210         7000.0      HORNSBY BEND  \n",
              "205         5500.0      HORNSBY BEND  \n",
              "\n",
              "[25083 rows x 5 columns]"
            ],
            "text/html": [
              "\n",
              "  <div id=\"df-8b91097b-3838-400c-9e14-9f9ac84cef17\">\n",
              "    <div class=\"colab-df-container\">\n",
              "      <div>\n",
              "<style scoped>\n",
              "    .dataframe tbody tr th:only-of-type {\n",
              "        vertical-align: middle;\n",
              "    }\n",
              "\n",
              "    .dataframe tbody tr th {\n",
              "        vertical-align: top;\n",
              "    }\n",
              "\n",
              "    .dataframe thead th {\n",
              "        text-align: right;\n",
              "    }\n",
              "</style>\n",
              "<table border=\"1\" class=\"dataframe\">\n",
              "  <thead>\n",
              "    <tr style=\"text-align: right;\">\n",
              "      <th></th>\n",
              "      <th>report_date</th>\n",
              "      <th>load_type</th>\n",
              "      <th>load_time</th>\n",
              "      <th>load_weight</th>\n",
              "      <th>dropoff_site</th>\n",
              "    </tr>\n",
              "  </thead>\n",
              "  <tbody>\n",
              "    <tr>\n",
              "      <th>19228</th>\n",
              "      <td>2021-01-02</td>\n",
              "      <td>ORGANICS</td>\n",
              "      <td>2021-01-04 07:04:00.000000 UTC</td>\n",
              "      <td>8460.0</td>\n",
              "      <td>ORGANICS BY GOSH</td>\n",
              "    </tr>\n",
              "    <tr>\n",
              "      <th>19161</th>\n",
              "      <td>2021-01-02</td>\n",
              "      <td>GARBAGE COLLECTIONS</td>\n",
              "      <td>2021-01-02 12:56:00.000000 UTC</td>\n",
              "      <td>17160.0</td>\n",
              "      <td>TDS LANDFILL</td>\n",
              "    </tr>\n",
              "    <tr>\n",
              "      <th>19162</th>\n",
              "      <td>2021-01-02</td>\n",
              "      <td>GARBAGE COLLECTIONS</td>\n",
              "      <td>2021-01-02 01:42:00.000000 UTC</td>\n",
              "      <td>15240.0</td>\n",
              "      <td>TDS LANDFILL</td>\n",
              "    </tr>\n",
              "    <tr>\n",
              "      <th>19163</th>\n",
              "      <td>2021-01-02</td>\n",
              "      <td>MIXED LITTER</td>\n",
              "      <td>2021-01-02 08:47:00.000000 UTC</td>\n",
              "      <td>4540.0</td>\n",
              "      <td>TDS LANDFILL</td>\n",
              "    </tr>\n",
              "    <tr>\n",
              "      <th>19164</th>\n",
              "      <td>2021-01-02</td>\n",
              "      <td>MIXED LITTER</td>\n",
              "      <td>2021-01-02 11:34:00.000000 UTC</td>\n",
              "      <td>6620.0</td>\n",
              "      <td>TDS LANDFILL</td>\n",
              "    </tr>\n",
              "    <tr>\n",
              "      <th>...</th>\n",
              "      <td>...</td>\n",
              "      <td>...</td>\n",
              "      <td>...</td>\n",
              "      <td>...</td>\n",
              "      <td>...</td>\n",
              "    </tr>\n",
              "    <tr>\n",
              "      <th>211</th>\n",
              "      <td>2021-07-09</td>\n",
              "      <td>BRUSH</td>\n",
              "      <td>2021-07-09 06:00:00.000000 UTC</td>\n",
              "      <td>5500.0</td>\n",
              "      <td>HORNSBY BEND</td>\n",
              "    </tr>\n",
              "    <tr>\n",
              "      <th>207</th>\n",
              "      <td>2021-07-09</td>\n",
              "      <td>BRUSH</td>\n",
              "      <td>2021-07-09 02:57:00.000000 UTC</td>\n",
              "      <td>5500.0</td>\n",
              "      <td>HORNSBY BEND</td>\n",
              "    </tr>\n",
              "    <tr>\n",
              "      <th>208</th>\n",
              "      <td>2021-07-09</td>\n",
              "      <td>BRUSH</td>\n",
              "      <td>2021-07-09 03:45:00.000000 UTC</td>\n",
              "      <td>5500.0</td>\n",
              "      <td>HORNSBY BEND</td>\n",
              "    </tr>\n",
              "    <tr>\n",
              "      <th>210</th>\n",
              "      <td>2021-07-09</td>\n",
              "      <td>BRUSH</td>\n",
              "      <td>2021-07-09 01:12:00.000000 UTC</td>\n",
              "      <td>7000.0</td>\n",
              "      <td>HORNSBY BEND</td>\n",
              "    </tr>\n",
              "    <tr>\n",
              "      <th>205</th>\n",
              "      <td>2021-07-09</td>\n",
              "      <td>BRUSH</td>\n",
              "      <td>2021-07-09 05:40:00.000000 UTC</td>\n",
              "      <td>5500.0</td>\n",
              "      <td>HORNSBY BEND</td>\n",
              "    </tr>\n",
              "  </tbody>\n",
              "</table>\n",
              "<p>25083 rows × 5 columns</p>\n",
              "</div>\n",
              "      <button class=\"colab-df-convert\" onclick=\"convertToInteractive('df-8b91097b-3838-400c-9e14-9f9ac84cef17')\"\n",
              "              title=\"Convert this dataframe to an interactive table.\"\n",
              "              style=\"display:none;\">\n",
              "        \n",
              "  <svg xmlns=\"http://www.w3.org/2000/svg\" height=\"24px\"viewBox=\"0 0 24 24\"\n",
              "       width=\"24px\">\n",
              "    <path d=\"M0 0h24v24H0V0z\" fill=\"none\"/>\n",
              "    <path d=\"M18.56 5.44l.94 2.06.94-2.06 2.06-.94-2.06-.94-.94-2.06-.94 2.06-2.06.94zm-11 1L8.5 8.5l.94-2.06 2.06-.94-2.06-.94L8.5 2.5l-.94 2.06-2.06.94zm10 10l.94 2.06.94-2.06 2.06-.94-2.06-.94-.94-2.06-.94 2.06-2.06.94z\"/><path d=\"M17.41 7.96l-1.37-1.37c-.4-.4-.92-.59-1.43-.59-.52 0-1.04.2-1.43.59L10.3 9.45l-7.72 7.72c-.78.78-.78 2.05 0 2.83L4 21.41c.39.39.9.59 1.41.59.51 0 1.02-.2 1.41-.59l7.78-7.78 2.81-2.81c.8-.78.8-2.07 0-2.86zM5.41 20L4 18.59l7.72-7.72 1.47 1.35L5.41 20z\"/>\n",
              "  </svg>\n",
              "      </button>\n",
              "      \n",
              "  <style>\n",
              "    .colab-df-container {\n",
              "      display:flex;\n",
              "      flex-wrap:wrap;\n",
              "      gap: 12px;\n",
              "    }\n",
              "\n",
              "    .colab-df-convert {\n",
              "      background-color: #E8F0FE;\n",
              "      border: none;\n",
              "      border-radius: 50%;\n",
              "      cursor: pointer;\n",
              "      display: none;\n",
              "      fill: #1967D2;\n",
              "      height: 32px;\n",
              "      padding: 0 0 0 0;\n",
              "      width: 32px;\n",
              "    }\n",
              "\n",
              "    .colab-df-convert:hover {\n",
              "      background-color: #E2EBFA;\n",
              "      box-shadow: 0px 1px 2px rgba(60, 64, 67, 0.3), 0px 1px 3px 1px rgba(60, 64, 67, 0.15);\n",
              "      fill: #174EA6;\n",
              "    }\n",
              "\n",
              "    [theme=dark] .colab-df-convert {\n",
              "      background-color: #3B4455;\n",
              "      fill: #D2E3FC;\n",
              "    }\n",
              "\n",
              "    [theme=dark] .colab-df-convert:hover {\n",
              "      background-color: #434B5C;\n",
              "      box-shadow: 0px 1px 3px 1px rgba(0, 0, 0, 0.15);\n",
              "      filter: drop-shadow(0px 1px 2px rgba(0, 0, 0, 0.3));\n",
              "      fill: #FFFFFF;\n",
              "    }\n",
              "  </style>\n",
              "\n",
              "      <script>\n",
              "        const buttonEl =\n",
              "          document.querySelector('#df-8b91097b-3838-400c-9e14-9f9ac84cef17 button.colab-df-convert');\n",
              "        buttonEl.style.display =\n",
              "          google.colab.kernel.accessAllowed ? 'block' : 'none';\n",
              "\n",
              "        async function convertToInteractive(key) {\n",
              "          const element = document.querySelector('#df-8b91097b-3838-400c-9e14-9f9ac84cef17');\n",
              "          const dataTable =\n",
              "            await google.colab.kernel.invokeFunction('convertToInteractive',\n",
              "                                                     [key], {});\n",
              "          if (!dataTable) return;\n",
              "\n",
              "          const docLinkHtml = 'Like what you see? Visit the ' +\n",
              "            '<a target=\"_blank\" href=https://colab.research.google.com/notebooks/data_table.ipynb>data table notebook</a>'\n",
              "            + ' to learn more about interactive tables.';\n",
              "          element.innerHTML = '';\n",
              "          dataTable['output_type'] = 'display_data';\n",
              "          await google.colab.output.renderOutput(dataTable, element);\n",
              "          const docLink = document.createElement('div');\n",
              "          docLink.innerHTML = docLinkHtml;\n",
              "          element.appendChild(docLink);\n",
              "        }\n",
              "      </script>\n",
              "    </div>\n",
              "  </div>\n",
              "  "
            ]
          },
          "metadata": {},
          "execution_count": 13
        }
      ]
    },
    {
      "cell_type": "code",
      "source": [
        "# Menampilkan tanggal pertama kali pencatatan data\n",
        "df_copy[\"report_date\"].min()"
      ],
      "metadata": {
        "id": "_Q-kiGOwLsPh",
        "outputId": "3560d0b8-8905-49a7-ce2e-1f309bc8ff07",
        "colab": {
          "base_uri": "https://localhost:8080/",
          "height": 35
        }
      },
      "execution_count": 14,
      "outputs": [
        {
          "output_type": "execute_result",
          "data": {
            "text/plain": [
              "'2021-01-02'"
            ],
            "application/vnd.google.colaboratory.intrinsic+json": {
              "type": "string"
            }
          },
          "metadata": {},
          "execution_count": 14
        }
      ]
    },
    {
      "cell_type": "code",
      "source": [
        "# Menampilkan tanggal terakhir kali pencatatan data\n",
        "df_copy[\"report_date\"].max()"
      ],
      "metadata": {
        "id": "mo9qhufzLshy",
        "outputId": "441a0ee3-e787-4eae-86f8-95edc59043a5",
        "colab": {
          "base_uri": "https://localhost:8080/",
          "height": 35
        }
      },
      "execution_count": 15,
      "outputs": [
        {
          "output_type": "execute_result",
          "data": {
            "text/plain": [
              "'2021-07-09'"
            ],
            "application/vnd.google.colaboratory.intrinsic+json": {
              "type": "string"
            }
          },
          "metadata": {},
          "execution_count": 15
        }
      ]
    },
    {
      "cell_type": "markdown",
      "source": [
        "- Rentang waktu pengambilan data yaitu \"2021-01-01 s/d 2021-07-09\"."
      ],
      "metadata": {
        "id": "aM-EZdxKLyFy"
      }
    },
    {
      "cell_type": "markdown",
      "source": [
        "> JENIS MUATAN SAMPAH YANG ADA DI KOTA AUSTIN"
      ],
      "metadata": {
        "id": "6_mRCulfL5-K"
      }
    },
    {
      "cell_type": "code",
      "source": [
        "# Menampilkan jenis sampah (load_type)\n",
        "df_copy[\"load_type\"].value_counts()"
      ],
      "metadata": {
        "id": "kTUOJL8CMAxq",
        "outputId": "71ff140d-1a1a-4da8-f60c-6b2c7992f1cf",
        "colab": {
          "base_uri": "https://localhost:8080/"
        }
      },
      "execution_count": 16,
      "outputs": [
        {
          "output_type": "execute_result",
          "data": {
            "text/plain": [
              "GARBAGE COLLECTIONS          8235\n",
              "RECYCLING - SINGLE STREAM    6754\n",
              "ORGANICS                     5740\n",
              "BULK                         1594\n",
              "BRUSH                        1510\n",
              "SWEEPING                      360\n",
              "MIXED LITTER                  328\n",
              "TIRES                         175\n",
              "DEAD ANIMAL                   150\n",
              "YARD TRIMMING                 137\n",
              "RECYCLED METAL                 57\n",
              "LITTER                         41\n",
              "CONTAMINATED RECYCLING          1\n",
              "CONTAMINATED ORGANICS           1\n",
              "Name: load_type, dtype: int64"
            ]
          },
          "metadata": {},
          "execution_count": 16
        }
      ]
    },
    {
      "cell_type": "markdown",
      "source": [
        "- Jenis muatan sampah di kota Austin : GARBAGE COLLECTIONS, RECYCLING - SINGLE STREAM, ORGANICS, BULK, BRUSH, SWEEPING, MIXED LITTER, TIRES, DEAD ANIMAL, YARD TRIMMING, RECYCLED METAL, LITTER, CONTAMINATED RECYCLING, CONTAMINATED ORGANICS."
      ],
      "metadata": {
        "id": "DhFk6-JWMGIK"
      }
    },
    {
      "cell_type": "markdown",
      "source": [
        "> LOKASI TEMPAT PEMBUANGAN SAMPAH DI KOTA AUSTIN"
      ],
      "metadata": {
        "id": "TNTBmTGHMHOn"
      }
    },
    {
      "cell_type": "code",
      "source": [
        "# Menampilkan lokasi tempat pembuangan (dropoff_site)\n",
        "df_copy[\"dropoff_site\"].value_counts()"
      ],
      "metadata": {
        "id": "_b51058EMKpZ",
        "outputId": "e0929809-19b1-4ea4-f358-e1338b6d7c2b",
        "colab": {
          "base_uri": "https://localhost:8080/"
        }
      },
      "execution_count": 17,
      "outputs": [
        {
          "output_type": "execute_result",
          "data": {
            "text/plain": [
              "TDS LANDFILL             10684\n",
              "ORGANICS BY GOSH          5732\n",
              "BALCONES RECYCLING        3832\n",
              "TDS - MRF                 2947\n",
              "HORNSBY BEND              1648\n",
              "MRF                        168\n",
              "AUSTIN IRON AND METAL       50\n",
              "ON ROUTE HIGH DUMP           7\n",
              "GREAT NORTHERN               6\n",
              "PARK BEND                    4\n",
              "AUSTIN WOOD RECYCLING        2\n",
              "BALCONES WOODS               1\n",
              "STEINER LANDFILL             1\n",
              "WESTFIELD                    1\n",
              "Name: dropoff_site, dtype: int64"
            ]
          },
          "metadata": {},
          "execution_count": 17
        }
      ]
    },
    {
      "cell_type": "markdown",
      "source": [
        "- Lokasi tempat pembuangan sampah di kota Austin : TDS LANDFILL, ORGANICS BY GOSH, BALCONES RECYCLING, TDS - MRF, HORNSBY BEND, MRF, AUSTIN IRON AND METAL, ON ROUTE HIGH DUMP, GREAT NORTHERN, PARK BEND, AUSTIN WOOD RECYCLING, BALCONES WOODS, STEINER LANDFILL, WESTFIELD."
      ],
      "metadata": {
        "id": "o_LVUwcLMOKV"
      }
    },
    {
      "cell_type": "markdown",
      "source": [
        "> CENTRAL TENDENCY"
      ],
      "metadata": {
        "id": "YdOn8t72MQzb"
      }
    },
    {
      "cell_type": "code",
      "source": [
        "# Mencari mean\n",
        "df_copy.groupby(by = \"dropoff_site\", sort = True)[\"load_weight\"].apply(pd.Series.mean).to_frame()"
      ],
      "metadata": {
        "id": "-V98NZTIMVAd",
        "outputId": "5a496114-8a42-4cca-8dd3-9098c0e596ac",
        "colab": {
          "base_uri": "https://localhost:8080/",
          "height": 520
        }
      },
      "execution_count": 18,
      "outputs": [
        {
          "output_type": "execute_result",
          "data": {
            "text/plain": [
              "                        load_weight\n",
              "dropoff_site                       \n",
              "AUSTIN IRON AND METAL    451.200000\n",
              "AUSTIN WOOD RECYCLING   4050.000000\n",
              "BALCONES RECYCLING      9464.934760\n",
              "BALCONES WOODS          8460.000000\n",
              "GREAT NORTHERN         19153.333333\n",
              "HORNSBY BEND            6636.638350\n",
              "MRF                     1799.982143\n",
              "ON ROUTE HIGH DUMP     12525.714286\n",
              "ORGANICS BY GOSH       11824.135729\n",
              "PARK BEND              13385.000000\n",
              "STEINER LANDFILL         780.000000\n",
              "TDS - MRF               9872.439769\n",
              "TDS LANDFILL           15168.516711\n",
              "WESTFIELD              16020.000000"
            ],
            "text/html": [
              "\n",
              "  <div id=\"df-fb9a8dec-482f-4c5f-bd2f-74e305e33a60\">\n",
              "    <div class=\"colab-df-container\">\n",
              "      <div>\n",
              "<style scoped>\n",
              "    .dataframe tbody tr th:only-of-type {\n",
              "        vertical-align: middle;\n",
              "    }\n",
              "\n",
              "    .dataframe tbody tr th {\n",
              "        vertical-align: top;\n",
              "    }\n",
              "\n",
              "    .dataframe thead th {\n",
              "        text-align: right;\n",
              "    }\n",
              "</style>\n",
              "<table border=\"1\" class=\"dataframe\">\n",
              "  <thead>\n",
              "    <tr style=\"text-align: right;\">\n",
              "      <th></th>\n",
              "      <th>load_weight</th>\n",
              "    </tr>\n",
              "    <tr>\n",
              "      <th>dropoff_site</th>\n",
              "      <th></th>\n",
              "    </tr>\n",
              "  </thead>\n",
              "  <tbody>\n",
              "    <tr>\n",
              "      <th>AUSTIN IRON AND METAL</th>\n",
              "      <td>451.200000</td>\n",
              "    </tr>\n",
              "    <tr>\n",
              "      <th>AUSTIN WOOD RECYCLING</th>\n",
              "      <td>4050.000000</td>\n",
              "    </tr>\n",
              "    <tr>\n",
              "      <th>BALCONES RECYCLING</th>\n",
              "      <td>9464.934760</td>\n",
              "    </tr>\n",
              "    <tr>\n",
              "      <th>BALCONES WOODS</th>\n",
              "      <td>8460.000000</td>\n",
              "    </tr>\n",
              "    <tr>\n",
              "      <th>GREAT NORTHERN</th>\n",
              "      <td>19153.333333</td>\n",
              "    </tr>\n",
              "    <tr>\n",
              "      <th>HORNSBY BEND</th>\n",
              "      <td>6636.638350</td>\n",
              "    </tr>\n",
              "    <tr>\n",
              "      <th>MRF</th>\n",
              "      <td>1799.982143</td>\n",
              "    </tr>\n",
              "    <tr>\n",
              "      <th>ON ROUTE HIGH DUMP</th>\n",
              "      <td>12525.714286</td>\n",
              "    </tr>\n",
              "    <tr>\n",
              "      <th>ORGANICS BY GOSH</th>\n",
              "      <td>11824.135729</td>\n",
              "    </tr>\n",
              "    <tr>\n",
              "      <th>PARK BEND</th>\n",
              "      <td>13385.000000</td>\n",
              "    </tr>\n",
              "    <tr>\n",
              "      <th>STEINER LANDFILL</th>\n",
              "      <td>780.000000</td>\n",
              "    </tr>\n",
              "    <tr>\n",
              "      <th>TDS - MRF</th>\n",
              "      <td>9872.439769</td>\n",
              "    </tr>\n",
              "    <tr>\n",
              "      <th>TDS LANDFILL</th>\n",
              "      <td>15168.516711</td>\n",
              "    </tr>\n",
              "    <tr>\n",
              "      <th>WESTFIELD</th>\n",
              "      <td>16020.000000</td>\n",
              "    </tr>\n",
              "  </tbody>\n",
              "</table>\n",
              "</div>\n",
              "      <button class=\"colab-df-convert\" onclick=\"convertToInteractive('df-fb9a8dec-482f-4c5f-bd2f-74e305e33a60')\"\n",
              "              title=\"Convert this dataframe to an interactive table.\"\n",
              "              style=\"display:none;\">\n",
              "        \n",
              "  <svg xmlns=\"http://www.w3.org/2000/svg\" height=\"24px\"viewBox=\"0 0 24 24\"\n",
              "       width=\"24px\">\n",
              "    <path d=\"M0 0h24v24H0V0z\" fill=\"none\"/>\n",
              "    <path d=\"M18.56 5.44l.94 2.06.94-2.06 2.06-.94-2.06-.94-.94-2.06-.94 2.06-2.06.94zm-11 1L8.5 8.5l.94-2.06 2.06-.94-2.06-.94L8.5 2.5l-.94 2.06-2.06.94zm10 10l.94 2.06.94-2.06 2.06-.94-2.06-.94-.94-2.06-.94 2.06-2.06.94z\"/><path d=\"M17.41 7.96l-1.37-1.37c-.4-.4-.92-.59-1.43-.59-.52 0-1.04.2-1.43.59L10.3 9.45l-7.72 7.72c-.78.78-.78 2.05 0 2.83L4 21.41c.39.39.9.59 1.41.59.51 0 1.02-.2 1.41-.59l7.78-7.78 2.81-2.81c.8-.78.8-2.07 0-2.86zM5.41 20L4 18.59l7.72-7.72 1.47 1.35L5.41 20z\"/>\n",
              "  </svg>\n",
              "      </button>\n",
              "      \n",
              "  <style>\n",
              "    .colab-df-container {\n",
              "      display:flex;\n",
              "      flex-wrap:wrap;\n",
              "      gap: 12px;\n",
              "    }\n",
              "\n",
              "    .colab-df-convert {\n",
              "      background-color: #E8F0FE;\n",
              "      border: none;\n",
              "      border-radius: 50%;\n",
              "      cursor: pointer;\n",
              "      display: none;\n",
              "      fill: #1967D2;\n",
              "      height: 32px;\n",
              "      padding: 0 0 0 0;\n",
              "      width: 32px;\n",
              "    }\n",
              "\n",
              "    .colab-df-convert:hover {\n",
              "      background-color: #E2EBFA;\n",
              "      box-shadow: 0px 1px 2px rgba(60, 64, 67, 0.3), 0px 1px 3px 1px rgba(60, 64, 67, 0.15);\n",
              "      fill: #174EA6;\n",
              "    }\n",
              "\n",
              "    [theme=dark] .colab-df-convert {\n",
              "      background-color: #3B4455;\n",
              "      fill: #D2E3FC;\n",
              "    }\n",
              "\n",
              "    [theme=dark] .colab-df-convert:hover {\n",
              "      background-color: #434B5C;\n",
              "      box-shadow: 0px 1px 3px 1px rgba(0, 0, 0, 0.15);\n",
              "      filter: drop-shadow(0px 1px 2px rgba(0, 0, 0, 0.3));\n",
              "      fill: #FFFFFF;\n",
              "    }\n",
              "  </style>\n",
              "\n",
              "      <script>\n",
              "        const buttonEl =\n",
              "          document.querySelector('#df-fb9a8dec-482f-4c5f-bd2f-74e305e33a60 button.colab-df-convert');\n",
              "        buttonEl.style.display =\n",
              "          google.colab.kernel.accessAllowed ? 'block' : 'none';\n",
              "\n",
              "        async function convertToInteractive(key) {\n",
              "          const element = document.querySelector('#df-fb9a8dec-482f-4c5f-bd2f-74e305e33a60');\n",
              "          const dataTable =\n",
              "            await google.colab.kernel.invokeFunction('convertToInteractive',\n",
              "                                                     [key], {});\n",
              "          if (!dataTable) return;\n",
              "\n",
              "          const docLinkHtml = 'Like what you see? Visit the ' +\n",
              "            '<a target=\"_blank\" href=https://colab.research.google.com/notebooks/data_table.ipynb>data table notebook</a>'\n",
              "            + ' to learn more about interactive tables.';\n",
              "          element.innerHTML = '';\n",
              "          dataTable['output_type'] = 'display_data';\n",
              "          await google.colab.output.renderOutput(dataTable, element);\n",
              "          const docLink = document.createElement('div');\n",
              "          docLink.innerHTML = docLinkHtml;\n",
              "          element.appendChild(docLink);\n",
              "        }\n",
              "      </script>\n",
              "    </div>\n",
              "  </div>\n",
              "  "
            ]
          },
          "metadata": {},
          "execution_count": 18
        }
      ]
    },
    {
      "cell_type": "markdown",
      "source": [
        "- Tabel menampilkan nila rata-rata (mean) berat muatan pada masing-masing tempat pembuangan. Sebagai contoh ditempat pembuangan \"AUSTIN IRON AND METAL\" memiliki rata-rata berat muatan sebesar 451.2kg."
      ],
      "metadata": {
        "id": "IbT8d4IzMZTU"
      }
    },
    {
      "cell_type": "code",
      "source": [
        "# Mencari median\n",
        "df_copy.groupby(by = \"dropoff_site\", sort = True)[\"load_weight\"].apply(pd.Series.median).to_frame()"
      ],
      "metadata": {
        "id": "zq8618UUMcXq",
        "outputId": "06524851-e88b-4d6d-de3c-fb1081062e80",
        "colab": {
          "base_uri": "https://localhost:8080/",
          "height": 520
        }
      },
      "execution_count": 19,
      "outputs": [
        {
          "output_type": "execute_result",
          "data": {
            "text/plain": [
              "                       load_weight\n",
              "dropoff_site                      \n",
              "AUSTIN IRON AND METAL        400.0\n",
              "AUSTIN WOOD RECYCLING       4050.0\n",
              "BALCONES RECYCLING          9840.0\n",
              "BALCONES WOODS              8460.0\n",
              "GREAT NORTHERN             21110.0\n",
              "HORNSBY BEND                6400.0\n",
              "MRF                         1360.0\n",
              "ON ROUTE HIGH DUMP         14940.0\n",
              "ORGANICS BY GOSH           11920.0\n",
              "PARK BEND                  12330.0\n",
              "STEINER LANDFILL             780.0\n",
              "TDS - MRF                  10340.0\n",
              "TDS LANDFILL               14920.0\n",
              "WESTFIELD                  16020.0"
            ],
            "text/html": [
              "\n",
              "  <div id=\"df-d79c3129-fc96-4eed-a959-9d3accf86b17\">\n",
              "    <div class=\"colab-df-container\">\n",
              "      <div>\n",
              "<style scoped>\n",
              "    .dataframe tbody tr th:only-of-type {\n",
              "        vertical-align: middle;\n",
              "    }\n",
              "\n",
              "    .dataframe tbody tr th {\n",
              "        vertical-align: top;\n",
              "    }\n",
              "\n",
              "    .dataframe thead th {\n",
              "        text-align: right;\n",
              "    }\n",
              "</style>\n",
              "<table border=\"1\" class=\"dataframe\">\n",
              "  <thead>\n",
              "    <tr style=\"text-align: right;\">\n",
              "      <th></th>\n",
              "      <th>load_weight</th>\n",
              "    </tr>\n",
              "    <tr>\n",
              "      <th>dropoff_site</th>\n",
              "      <th></th>\n",
              "    </tr>\n",
              "  </thead>\n",
              "  <tbody>\n",
              "    <tr>\n",
              "      <th>AUSTIN IRON AND METAL</th>\n",
              "      <td>400.0</td>\n",
              "    </tr>\n",
              "    <tr>\n",
              "      <th>AUSTIN WOOD RECYCLING</th>\n",
              "      <td>4050.0</td>\n",
              "    </tr>\n",
              "    <tr>\n",
              "      <th>BALCONES RECYCLING</th>\n",
              "      <td>9840.0</td>\n",
              "    </tr>\n",
              "    <tr>\n",
              "      <th>BALCONES WOODS</th>\n",
              "      <td>8460.0</td>\n",
              "    </tr>\n",
              "    <tr>\n",
              "      <th>GREAT NORTHERN</th>\n",
              "      <td>21110.0</td>\n",
              "    </tr>\n",
              "    <tr>\n",
              "      <th>HORNSBY BEND</th>\n",
              "      <td>6400.0</td>\n",
              "    </tr>\n",
              "    <tr>\n",
              "      <th>MRF</th>\n",
              "      <td>1360.0</td>\n",
              "    </tr>\n",
              "    <tr>\n",
              "      <th>ON ROUTE HIGH DUMP</th>\n",
              "      <td>14940.0</td>\n",
              "    </tr>\n",
              "    <tr>\n",
              "      <th>ORGANICS BY GOSH</th>\n",
              "      <td>11920.0</td>\n",
              "    </tr>\n",
              "    <tr>\n",
              "      <th>PARK BEND</th>\n",
              "      <td>12330.0</td>\n",
              "    </tr>\n",
              "    <tr>\n",
              "      <th>STEINER LANDFILL</th>\n",
              "      <td>780.0</td>\n",
              "    </tr>\n",
              "    <tr>\n",
              "      <th>TDS - MRF</th>\n",
              "      <td>10340.0</td>\n",
              "    </tr>\n",
              "    <tr>\n",
              "      <th>TDS LANDFILL</th>\n",
              "      <td>14920.0</td>\n",
              "    </tr>\n",
              "    <tr>\n",
              "      <th>WESTFIELD</th>\n",
              "      <td>16020.0</td>\n",
              "    </tr>\n",
              "  </tbody>\n",
              "</table>\n",
              "</div>\n",
              "      <button class=\"colab-df-convert\" onclick=\"convertToInteractive('df-d79c3129-fc96-4eed-a959-9d3accf86b17')\"\n",
              "              title=\"Convert this dataframe to an interactive table.\"\n",
              "              style=\"display:none;\">\n",
              "        \n",
              "  <svg xmlns=\"http://www.w3.org/2000/svg\" height=\"24px\"viewBox=\"0 0 24 24\"\n",
              "       width=\"24px\">\n",
              "    <path d=\"M0 0h24v24H0V0z\" fill=\"none\"/>\n",
              "    <path d=\"M18.56 5.44l.94 2.06.94-2.06 2.06-.94-2.06-.94-.94-2.06-.94 2.06-2.06.94zm-11 1L8.5 8.5l.94-2.06 2.06-.94-2.06-.94L8.5 2.5l-.94 2.06-2.06.94zm10 10l.94 2.06.94-2.06 2.06-.94-2.06-.94-.94-2.06-.94 2.06-2.06.94z\"/><path d=\"M17.41 7.96l-1.37-1.37c-.4-.4-.92-.59-1.43-.59-.52 0-1.04.2-1.43.59L10.3 9.45l-7.72 7.72c-.78.78-.78 2.05 0 2.83L4 21.41c.39.39.9.59 1.41.59.51 0 1.02-.2 1.41-.59l7.78-7.78 2.81-2.81c.8-.78.8-2.07 0-2.86zM5.41 20L4 18.59l7.72-7.72 1.47 1.35L5.41 20z\"/>\n",
              "  </svg>\n",
              "      </button>\n",
              "      \n",
              "  <style>\n",
              "    .colab-df-container {\n",
              "      display:flex;\n",
              "      flex-wrap:wrap;\n",
              "      gap: 12px;\n",
              "    }\n",
              "\n",
              "    .colab-df-convert {\n",
              "      background-color: #E8F0FE;\n",
              "      border: none;\n",
              "      border-radius: 50%;\n",
              "      cursor: pointer;\n",
              "      display: none;\n",
              "      fill: #1967D2;\n",
              "      height: 32px;\n",
              "      padding: 0 0 0 0;\n",
              "      width: 32px;\n",
              "    }\n",
              "\n",
              "    .colab-df-convert:hover {\n",
              "      background-color: #E2EBFA;\n",
              "      box-shadow: 0px 1px 2px rgba(60, 64, 67, 0.3), 0px 1px 3px 1px rgba(60, 64, 67, 0.15);\n",
              "      fill: #174EA6;\n",
              "    }\n",
              "\n",
              "    [theme=dark] .colab-df-convert {\n",
              "      background-color: #3B4455;\n",
              "      fill: #D2E3FC;\n",
              "    }\n",
              "\n",
              "    [theme=dark] .colab-df-convert:hover {\n",
              "      background-color: #434B5C;\n",
              "      box-shadow: 0px 1px 3px 1px rgba(0, 0, 0, 0.15);\n",
              "      filter: drop-shadow(0px 1px 2px rgba(0, 0, 0, 0.3));\n",
              "      fill: #FFFFFF;\n",
              "    }\n",
              "  </style>\n",
              "\n",
              "      <script>\n",
              "        const buttonEl =\n",
              "          document.querySelector('#df-d79c3129-fc96-4eed-a959-9d3accf86b17 button.colab-df-convert');\n",
              "        buttonEl.style.display =\n",
              "          google.colab.kernel.accessAllowed ? 'block' : 'none';\n",
              "\n",
              "        async function convertToInteractive(key) {\n",
              "          const element = document.querySelector('#df-d79c3129-fc96-4eed-a959-9d3accf86b17');\n",
              "          const dataTable =\n",
              "            await google.colab.kernel.invokeFunction('convertToInteractive',\n",
              "                                                     [key], {});\n",
              "          if (!dataTable) return;\n",
              "\n",
              "          const docLinkHtml = 'Like what you see? Visit the ' +\n",
              "            '<a target=\"_blank\" href=https://colab.research.google.com/notebooks/data_table.ipynb>data table notebook</a>'\n",
              "            + ' to learn more about interactive tables.';\n",
              "          element.innerHTML = '';\n",
              "          dataTable['output_type'] = 'display_data';\n",
              "          await google.colab.output.renderOutput(dataTable, element);\n",
              "          const docLink = document.createElement('div');\n",
              "          docLink.innerHTML = docLinkHtml;\n",
              "          element.appendChild(docLink);\n",
              "        }\n",
              "      </script>\n",
              "    </div>\n",
              "  </div>\n",
              "  "
            ]
          },
          "metadata": {},
          "execution_count": 19
        }
      ]
    },
    {
      "cell_type": "markdown",
      "source": [
        "- Tabel menampilkan nilai tengah (median) berat muatan pada masing-masing tempat pembuangan. Sebagai contoh ditempat pembuangan \"AUSTIN IRON AND METAL\" memiliki nilai tengah dengan berat muatan sebesar 400kg."
      ],
      "metadata": {
        "id": "zRwu3hH1Mf2r"
      }
    },
    {
      "cell_type": "code",
      "source": [
        "# Mencari modus\n",
        "df_copy.groupby(by = \"dropoff_site\", sort = True)[\"load_weight\"].apply(pd.Series.mode).to_frame()"
      ],
      "metadata": {
        "id": "N3PdMs2xMh_2",
        "outputId": "947fdbed-46e7-4d1a-8e81-222ae4f69a67",
        "colab": {
          "base_uri": "https://localhost:8080/",
          "height": 1000
        }
      },
      "execution_count": 20,
      "outputs": [
        {
          "output_type": "execute_result",
          "data": {
            "text/plain": [
              "                         load_weight\n",
              "dropoff_site                        \n",
              "AUSTIN IRON AND METAL 0        260.0\n",
              "                      1        320.0\n",
              "                      2        520.0\n",
              "AUSTIN WOOD RECYCLING 0       2340.0\n",
              "                      1       5760.0\n",
              "BALCONES RECYCLING    0      11880.0\n",
              "BALCONES WOODS        0       8460.0\n",
              "GREAT NORTHERN        0       8700.0\n",
              "                      1      17160.0\n",
              "                      2      20900.0\n",
              "                      3      21320.0\n",
              "                      4      21960.0\n",
              "                      5      24880.0\n",
              "HORNSBY BEND          0       5500.0\n",
              "MRF                   0        960.0\n",
              "ON ROUTE HIGH DUMP    0       4060.0\n",
              "                      1       7480.0\n",
              "                      2      12500.0\n",
              "                      3      14940.0\n",
              "                      4      15040.0\n",
              "                      5      15200.0\n",
              "                      6      18460.0\n",
              "ORGANICS BY GOSH      0      14580.0\n",
              "PARK BEND             0       8480.0\n",
              "                      1       8960.0\n",
              "                      2      15700.0\n",
              "                      3      20400.0\n",
              "STEINER LANDFILL      0        780.0\n",
              "TDS - MRF             0      10360.0\n",
              "TDS LANDFILL          0         20.0\n",
              "                      1         60.0\n",
              "                      2      12020.0\n",
              "WESTFIELD             0      16020.0"
            ],
            "text/html": [
              "\n",
              "  <div id=\"df-bbaa3497-f072-4de4-b9bd-301bf6214c37\">\n",
              "    <div class=\"colab-df-container\">\n",
              "      <div>\n",
              "<style scoped>\n",
              "    .dataframe tbody tr th:only-of-type {\n",
              "        vertical-align: middle;\n",
              "    }\n",
              "\n",
              "    .dataframe tbody tr th {\n",
              "        vertical-align: top;\n",
              "    }\n",
              "\n",
              "    .dataframe thead th {\n",
              "        text-align: right;\n",
              "    }\n",
              "</style>\n",
              "<table border=\"1\" class=\"dataframe\">\n",
              "  <thead>\n",
              "    <tr style=\"text-align: right;\">\n",
              "      <th></th>\n",
              "      <th></th>\n",
              "      <th>load_weight</th>\n",
              "    </tr>\n",
              "    <tr>\n",
              "      <th>dropoff_site</th>\n",
              "      <th></th>\n",
              "      <th></th>\n",
              "    </tr>\n",
              "  </thead>\n",
              "  <tbody>\n",
              "    <tr>\n",
              "      <th rowspan=\"3\" valign=\"top\">AUSTIN IRON AND METAL</th>\n",
              "      <th>0</th>\n",
              "      <td>260.0</td>\n",
              "    </tr>\n",
              "    <tr>\n",
              "      <th>1</th>\n",
              "      <td>320.0</td>\n",
              "    </tr>\n",
              "    <tr>\n",
              "      <th>2</th>\n",
              "      <td>520.0</td>\n",
              "    </tr>\n",
              "    <tr>\n",
              "      <th rowspan=\"2\" valign=\"top\">AUSTIN WOOD RECYCLING</th>\n",
              "      <th>0</th>\n",
              "      <td>2340.0</td>\n",
              "    </tr>\n",
              "    <tr>\n",
              "      <th>1</th>\n",
              "      <td>5760.0</td>\n",
              "    </tr>\n",
              "    <tr>\n",
              "      <th>BALCONES RECYCLING</th>\n",
              "      <th>0</th>\n",
              "      <td>11880.0</td>\n",
              "    </tr>\n",
              "    <tr>\n",
              "      <th>BALCONES WOODS</th>\n",
              "      <th>0</th>\n",
              "      <td>8460.0</td>\n",
              "    </tr>\n",
              "    <tr>\n",
              "      <th rowspan=\"6\" valign=\"top\">GREAT NORTHERN</th>\n",
              "      <th>0</th>\n",
              "      <td>8700.0</td>\n",
              "    </tr>\n",
              "    <tr>\n",
              "      <th>1</th>\n",
              "      <td>17160.0</td>\n",
              "    </tr>\n",
              "    <tr>\n",
              "      <th>2</th>\n",
              "      <td>20900.0</td>\n",
              "    </tr>\n",
              "    <tr>\n",
              "      <th>3</th>\n",
              "      <td>21320.0</td>\n",
              "    </tr>\n",
              "    <tr>\n",
              "      <th>4</th>\n",
              "      <td>21960.0</td>\n",
              "    </tr>\n",
              "    <tr>\n",
              "      <th>5</th>\n",
              "      <td>24880.0</td>\n",
              "    </tr>\n",
              "    <tr>\n",
              "      <th>HORNSBY BEND</th>\n",
              "      <th>0</th>\n",
              "      <td>5500.0</td>\n",
              "    </tr>\n",
              "    <tr>\n",
              "      <th>MRF</th>\n",
              "      <th>0</th>\n",
              "      <td>960.0</td>\n",
              "    </tr>\n",
              "    <tr>\n",
              "      <th rowspan=\"7\" valign=\"top\">ON ROUTE HIGH DUMP</th>\n",
              "      <th>0</th>\n",
              "      <td>4060.0</td>\n",
              "    </tr>\n",
              "    <tr>\n",
              "      <th>1</th>\n",
              "      <td>7480.0</td>\n",
              "    </tr>\n",
              "    <tr>\n",
              "      <th>2</th>\n",
              "      <td>12500.0</td>\n",
              "    </tr>\n",
              "    <tr>\n",
              "      <th>3</th>\n",
              "      <td>14940.0</td>\n",
              "    </tr>\n",
              "    <tr>\n",
              "      <th>4</th>\n",
              "      <td>15040.0</td>\n",
              "    </tr>\n",
              "    <tr>\n",
              "      <th>5</th>\n",
              "      <td>15200.0</td>\n",
              "    </tr>\n",
              "    <tr>\n",
              "      <th>6</th>\n",
              "      <td>18460.0</td>\n",
              "    </tr>\n",
              "    <tr>\n",
              "      <th>ORGANICS BY GOSH</th>\n",
              "      <th>0</th>\n",
              "      <td>14580.0</td>\n",
              "    </tr>\n",
              "    <tr>\n",
              "      <th rowspan=\"4\" valign=\"top\">PARK BEND</th>\n",
              "      <th>0</th>\n",
              "      <td>8480.0</td>\n",
              "    </tr>\n",
              "    <tr>\n",
              "      <th>1</th>\n",
              "      <td>8960.0</td>\n",
              "    </tr>\n",
              "    <tr>\n",
              "      <th>2</th>\n",
              "      <td>15700.0</td>\n",
              "    </tr>\n",
              "    <tr>\n",
              "      <th>3</th>\n",
              "      <td>20400.0</td>\n",
              "    </tr>\n",
              "    <tr>\n",
              "      <th>STEINER LANDFILL</th>\n",
              "      <th>0</th>\n",
              "      <td>780.0</td>\n",
              "    </tr>\n",
              "    <tr>\n",
              "      <th>TDS - MRF</th>\n",
              "      <th>0</th>\n",
              "      <td>10360.0</td>\n",
              "    </tr>\n",
              "    <tr>\n",
              "      <th rowspan=\"3\" valign=\"top\">TDS LANDFILL</th>\n",
              "      <th>0</th>\n",
              "      <td>20.0</td>\n",
              "    </tr>\n",
              "    <tr>\n",
              "      <th>1</th>\n",
              "      <td>60.0</td>\n",
              "    </tr>\n",
              "    <tr>\n",
              "      <th>2</th>\n",
              "      <td>12020.0</td>\n",
              "    </tr>\n",
              "    <tr>\n",
              "      <th>WESTFIELD</th>\n",
              "      <th>0</th>\n",
              "      <td>16020.0</td>\n",
              "    </tr>\n",
              "  </tbody>\n",
              "</table>\n",
              "</div>\n",
              "      <button class=\"colab-df-convert\" onclick=\"convertToInteractive('df-bbaa3497-f072-4de4-b9bd-301bf6214c37')\"\n",
              "              title=\"Convert this dataframe to an interactive table.\"\n",
              "              style=\"display:none;\">\n",
              "        \n",
              "  <svg xmlns=\"http://www.w3.org/2000/svg\" height=\"24px\"viewBox=\"0 0 24 24\"\n",
              "       width=\"24px\">\n",
              "    <path d=\"M0 0h24v24H0V0z\" fill=\"none\"/>\n",
              "    <path d=\"M18.56 5.44l.94 2.06.94-2.06 2.06-.94-2.06-.94-.94-2.06-.94 2.06-2.06.94zm-11 1L8.5 8.5l.94-2.06 2.06-.94-2.06-.94L8.5 2.5l-.94 2.06-2.06.94zm10 10l.94 2.06.94-2.06 2.06-.94-2.06-.94-.94-2.06-.94 2.06-2.06.94z\"/><path d=\"M17.41 7.96l-1.37-1.37c-.4-.4-.92-.59-1.43-.59-.52 0-1.04.2-1.43.59L10.3 9.45l-7.72 7.72c-.78.78-.78 2.05 0 2.83L4 21.41c.39.39.9.59 1.41.59.51 0 1.02-.2 1.41-.59l7.78-7.78 2.81-2.81c.8-.78.8-2.07 0-2.86zM5.41 20L4 18.59l7.72-7.72 1.47 1.35L5.41 20z\"/>\n",
              "  </svg>\n",
              "      </button>\n",
              "      \n",
              "  <style>\n",
              "    .colab-df-container {\n",
              "      display:flex;\n",
              "      flex-wrap:wrap;\n",
              "      gap: 12px;\n",
              "    }\n",
              "\n",
              "    .colab-df-convert {\n",
              "      background-color: #E8F0FE;\n",
              "      border: none;\n",
              "      border-radius: 50%;\n",
              "      cursor: pointer;\n",
              "      display: none;\n",
              "      fill: #1967D2;\n",
              "      height: 32px;\n",
              "      padding: 0 0 0 0;\n",
              "      width: 32px;\n",
              "    }\n",
              "\n",
              "    .colab-df-convert:hover {\n",
              "      background-color: #E2EBFA;\n",
              "      box-shadow: 0px 1px 2px rgba(60, 64, 67, 0.3), 0px 1px 3px 1px rgba(60, 64, 67, 0.15);\n",
              "      fill: #174EA6;\n",
              "    }\n",
              "\n",
              "    [theme=dark] .colab-df-convert {\n",
              "      background-color: #3B4455;\n",
              "      fill: #D2E3FC;\n",
              "    }\n",
              "\n",
              "    [theme=dark] .colab-df-convert:hover {\n",
              "      background-color: #434B5C;\n",
              "      box-shadow: 0px 1px 3px 1px rgba(0, 0, 0, 0.15);\n",
              "      filter: drop-shadow(0px 1px 2px rgba(0, 0, 0, 0.3));\n",
              "      fill: #FFFFFF;\n",
              "    }\n",
              "  </style>\n",
              "\n",
              "      <script>\n",
              "        const buttonEl =\n",
              "          document.querySelector('#df-bbaa3497-f072-4de4-b9bd-301bf6214c37 button.colab-df-convert');\n",
              "        buttonEl.style.display =\n",
              "          google.colab.kernel.accessAllowed ? 'block' : 'none';\n",
              "\n",
              "        async function convertToInteractive(key) {\n",
              "          const element = document.querySelector('#df-bbaa3497-f072-4de4-b9bd-301bf6214c37');\n",
              "          const dataTable =\n",
              "            await google.colab.kernel.invokeFunction('convertToInteractive',\n",
              "                                                     [key], {});\n",
              "          if (!dataTable) return;\n",
              "\n",
              "          const docLinkHtml = 'Like what you see? Visit the ' +\n",
              "            '<a target=\"_blank\" href=https://colab.research.google.com/notebooks/data_table.ipynb>data table notebook</a>'\n",
              "            + ' to learn more about interactive tables.';\n",
              "          element.innerHTML = '';\n",
              "          dataTable['output_type'] = 'display_data';\n",
              "          await google.colab.output.renderOutput(dataTable, element);\n",
              "          const docLink = document.createElement('div');\n",
              "          docLink.innerHTML = docLinkHtml;\n",
              "          element.appendChild(docLink);\n",
              "        }\n",
              "      </script>\n",
              "    </div>\n",
              "  </div>\n",
              "  "
            ]
          },
          "metadata": {},
          "execution_count": 20
        }
      ]
    },
    {
      "cell_type": "markdown",
      "source": [
        "- Tabel diatas menampilkan nilai yang paling sering muncul (modus) berat muatan di masing-masing tempat pembuangan. Sebagai contoh pada tempat pembuangan \"AUSTIN IRON AND METAL\" memiliki 3 nilai berat muatan yang paling sering muncul sebesar 260kg, 320kg dan 520kg."
      ],
      "metadata": {
        "id": "3Mt-W4hRMnB6"
      }
    },
    {
      "cell_type": "markdown",
      "source": [
        "> TEMPAT PEMBUANGAN YANG DIAMATI"
      ],
      "metadata": {
        "id": "F8dPWPt1Mphd"
      }
    },
    {
      "cell_type": "code",
      "source": [
        "# Jenis sampah yang dibuang\n",
        "df_copy[\"load_type\"].value_counts()"
      ],
      "metadata": {
        "id": "0M1yVzhZMskJ",
        "outputId": "908b48ef-97c4-4530-a7a1-cb6669ac07fa",
        "colab": {
          "base_uri": "https://localhost:8080/"
        }
      },
      "execution_count": 21,
      "outputs": [
        {
          "output_type": "execute_result",
          "data": {
            "text/plain": [
              "GARBAGE COLLECTIONS          8235\n",
              "RECYCLING - SINGLE STREAM    6754\n",
              "ORGANICS                     5740\n",
              "BULK                         1594\n",
              "BRUSH                        1510\n",
              "SWEEPING                      360\n",
              "MIXED LITTER                  328\n",
              "TIRES                         175\n",
              "DEAD ANIMAL                   150\n",
              "YARD TRIMMING                 137\n",
              "RECYCLED METAL                 57\n",
              "LITTER                         41\n",
              "CONTAMINATED RECYCLING          1\n",
              "CONTAMINATED ORGANICS           1\n",
              "Name: load_type, dtype: int64"
            ]
          },
          "metadata": {},
          "execution_count": 21
        }
      ]
    },
    {
      "cell_type": "markdown",
      "source": [
        "- Terdapat jenis sampah yaitu \"ORGANICS\" sebanyak 5.740 jenis, yang artinya sampah tersebut adalah limbah organik. Limbah organik adalah sisa bahan atau sampah yang dapat didaur ulang dan berasal dari makhluk hidup, selanjutnya dapat diamati jenis limbah organik dapat dibuang ke tempat pembuangan mana saja."
      ],
      "metadata": {
        "id": "Q4fShMMmMv-a"
      }
    },
    {
      "cell_type": "code",
      "source": [
        "# Lokasi tempat pembuangan jenis sampah organics\n",
        "organics = df_copy.loc[df_copy['load_type'] == 'ORGANICS']\n",
        "organics[\"dropoff_site\"].value_counts()"
      ],
      "metadata": {
        "id": "hx9UtSa5Mx5E",
        "outputId": "1e9b1913-9c11-4534-c82d-8fec1ac452bf",
        "colab": {
          "base_uri": "https://localhost:8080/"
        }
      },
      "execution_count": 22,
      "outputs": [
        {
          "output_type": "execute_result",
          "data": {
            "text/plain": [
              "ORGANICS BY GOSH      5705\n",
              "TDS LANDFILL            22\n",
              "ON ROUTE HIGH DUMP       7\n",
              "PARK BEND                4\n",
              "HORNSBY BEND             2\n",
              "Name: dropoff_site, dtype: int64"
            ]
          },
          "metadata": {},
          "execution_count": 22
        }
      ]
    },
    {
      "cell_type": "code",
      "source": [
        "# Jumlah berat muatan masing-masing lokasi tempat pembuangan\n",
        "sum_organics = organics.groupby(by = 'dropoff_site', sort = True)['load_weight'].sum()\n",
        "sum_organics"
      ],
      "metadata": {
        "id": "bMdJ23E7M1IT",
        "outputId": "7e80a357-a485-41cd-f118-c1e1c74c8e12",
        "colab": {
          "base_uri": "https://localhost:8080/"
        }
      },
      "execution_count": 23,
      "outputs": [
        {
          "output_type": "execute_result",
          "data": {
            "text/plain": [
              "dropoff_site\n",
              "HORNSBY BEND             16160.0\n",
              "ON ROUTE HIGH DUMP       87680.0\n",
              "ORGANICS BY GOSH      67671006.0\n",
              "PARK BEND                53540.0\n",
              "TDS LANDFILL             28020.0\n",
              "Name: load_weight, dtype: float64"
            ]
          },
          "metadata": {},
          "execution_count": 23
        }
      ]
    },
    {
      "cell_type": "markdown",
      "source": [
        "- Limbah organik paling banyak dibuang ke tempat pembuangan \"ORGANICS BY GOSH\" dan berat limbah organik yang dibuang mencapai 67.671.006kg."
      ],
      "metadata": {
        "id": "09Pms5O7M4J3"
      }
    },
    {
      "cell_type": "code",
      "source": [
        "# Memfilter tempat pembuangan organics by gosh\n",
        "organics_by_gosh = organics.loc[df['dropoff_site'] == 'ORGANICS BY GOSH']\n",
        "organics_by_gosh"
      ],
      "metadata": {
        "id": "LhCms3KdM6nY",
        "outputId": "ea01fc27-e94a-4464-eca6-e1fc7370837b",
        "colab": {
          "base_uri": "https://localhost:8080/",
          "height": 424
        }
      },
      "execution_count": 24,
      "outputs": [
        {
          "output_type": "execute_result",
          "data": {
            "text/plain": [
              "      report_date load_type                       load_time  load_weight  \\\n",
              "775    2021-02-21  ORGANICS  2021-02-21 10:41:00.000000 UTC       2480.0   \n",
              "776    2021-03-14  ORGANICS  2021-03-14 01:37:00.000000 UTC      21700.0   \n",
              "777    2021-03-21  ORGANICS  2021-03-21 07:56:00.000000 UTC       7120.0   \n",
              "778    2021-02-21  ORGANICS  2021-02-21 11:07:00.000000 UTC       5560.0   \n",
              "779    2021-03-14  ORGANICS  2021-03-14 03:04:00.000000 UTC      20460.0   \n",
              "...           ...       ...                             ...          ...   \n",
              "26151  2021-03-01  ORGANICS  2021-03-01 11:19:00.000000 UTC      18580.0   \n",
              "26152  2021-03-01  ORGANICS  2021-03-01 11:26:00.000000 UTC      12100.0   \n",
              "26153  2021-03-01  ORGANICS  2021-03-01 04:27:00.000000 UTC      10900.0   \n",
              "26154  2021-03-01  ORGANICS  2021-03-01 05:55:00.000000 UTC      21800.0   \n",
              "26155  2021-03-01  ORGANICS  2021-03-02 01:10:00.000000 UTC       5640.0   \n",
              "\n",
              "           dropoff_site  \n",
              "775    ORGANICS BY GOSH  \n",
              "776    ORGANICS BY GOSH  \n",
              "777    ORGANICS BY GOSH  \n",
              "778    ORGANICS BY GOSH  \n",
              "779    ORGANICS BY GOSH  \n",
              "...                 ...  \n",
              "26151  ORGANICS BY GOSH  \n",
              "26152  ORGANICS BY GOSH  \n",
              "26153  ORGANICS BY GOSH  \n",
              "26154  ORGANICS BY GOSH  \n",
              "26155  ORGANICS BY GOSH  \n",
              "\n",
              "[5705 rows x 5 columns]"
            ],
            "text/html": [
              "\n",
              "  <div id=\"df-91b19ab6-1053-4ce8-b4f8-08687071a453\">\n",
              "    <div class=\"colab-df-container\">\n",
              "      <div>\n",
              "<style scoped>\n",
              "    .dataframe tbody tr th:only-of-type {\n",
              "        vertical-align: middle;\n",
              "    }\n",
              "\n",
              "    .dataframe tbody tr th {\n",
              "        vertical-align: top;\n",
              "    }\n",
              "\n",
              "    .dataframe thead th {\n",
              "        text-align: right;\n",
              "    }\n",
              "</style>\n",
              "<table border=\"1\" class=\"dataframe\">\n",
              "  <thead>\n",
              "    <tr style=\"text-align: right;\">\n",
              "      <th></th>\n",
              "      <th>report_date</th>\n",
              "      <th>load_type</th>\n",
              "      <th>load_time</th>\n",
              "      <th>load_weight</th>\n",
              "      <th>dropoff_site</th>\n",
              "    </tr>\n",
              "  </thead>\n",
              "  <tbody>\n",
              "    <tr>\n",
              "      <th>775</th>\n",
              "      <td>2021-02-21</td>\n",
              "      <td>ORGANICS</td>\n",
              "      <td>2021-02-21 10:41:00.000000 UTC</td>\n",
              "      <td>2480.0</td>\n",
              "      <td>ORGANICS BY GOSH</td>\n",
              "    </tr>\n",
              "    <tr>\n",
              "      <th>776</th>\n",
              "      <td>2021-03-14</td>\n",
              "      <td>ORGANICS</td>\n",
              "      <td>2021-03-14 01:37:00.000000 UTC</td>\n",
              "      <td>21700.0</td>\n",
              "      <td>ORGANICS BY GOSH</td>\n",
              "    </tr>\n",
              "    <tr>\n",
              "      <th>777</th>\n",
              "      <td>2021-03-21</td>\n",
              "      <td>ORGANICS</td>\n",
              "      <td>2021-03-21 07:56:00.000000 UTC</td>\n",
              "      <td>7120.0</td>\n",
              "      <td>ORGANICS BY GOSH</td>\n",
              "    </tr>\n",
              "    <tr>\n",
              "      <th>778</th>\n",
              "      <td>2021-02-21</td>\n",
              "      <td>ORGANICS</td>\n",
              "      <td>2021-02-21 11:07:00.000000 UTC</td>\n",
              "      <td>5560.0</td>\n",
              "      <td>ORGANICS BY GOSH</td>\n",
              "    </tr>\n",
              "    <tr>\n",
              "      <th>779</th>\n",
              "      <td>2021-03-14</td>\n",
              "      <td>ORGANICS</td>\n",
              "      <td>2021-03-14 03:04:00.000000 UTC</td>\n",
              "      <td>20460.0</td>\n",
              "      <td>ORGANICS BY GOSH</td>\n",
              "    </tr>\n",
              "    <tr>\n",
              "      <th>...</th>\n",
              "      <td>...</td>\n",
              "      <td>...</td>\n",
              "      <td>...</td>\n",
              "      <td>...</td>\n",
              "      <td>...</td>\n",
              "    </tr>\n",
              "    <tr>\n",
              "      <th>26151</th>\n",
              "      <td>2021-03-01</td>\n",
              "      <td>ORGANICS</td>\n",
              "      <td>2021-03-01 11:19:00.000000 UTC</td>\n",
              "      <td>18580.0</td>\n",
              "      <td>ORGANICS BY GOSH</td>\n",
              "    </tr>\n",
              "    <tr>\n",
              "      <th>26152</th>\n",
              "      <td>2021-03-01</td>\n",
              "      <td>ORGANICS</td>\n",
              "      <td>2021-03-01 11:26:00.000000 UTC</td>\n",
              "      <td>12100.0</td>\n",
              "      <td>ORGANICS BY GOSH</td>\n",
              "    </tr>\n",
              "    <tr>\n",
              "      <th>26153</th>\n",
              "      <td>2021-03-01</td>\n",
              "      <td>ORGANICS</td>\n",
              "      <td>2021-03-01 04:27:00.000000 UTC</td>\n",
              "      <td>10900.0</td>\n",
              "      <td>ORGANICS BY GOSH</td>\n",
              "    </tr>\n",
              "    <tr>\n",
              "      <th>26154</th>\n",
              "      <td>2021-03-01</td>\n",
              "      <td>ORGANICS</td>\n",
              "      <td>2021-03-01 05:55:00.000000 UTC</td>\n",
              "      <td>21800.0</td>\n",
              "      <td>ORGANICS BY GOSH</td>\n",
              "    </tr>\n",
              "    <tr>\n",
              "      <th>26155</th>\n",
              "      <td>2021-03-01</td>\n",
              "      <td>ORGANICS</td>\n",
              "      <td>2021-03-02 01:10:00.000000 UTC</td>\n",
              "      <td>5640.0</td>\n",
              "      <td>ORGANICS BY GOSH</td>\n",
              "    </tr>\n",
              "  </tbody>\n",
              "</table>\n",
              "<p>5705 rows × 5 columns</p>\n",
              "</div>\n",
              "      <button class=\"colab-df-convert\" onclick=\"convertToInteractive('df-91b19ab6-1053-4ce8-b4f8-08687071a453')\"\n",
              "              title=\"Convert this dataframe to an interactive table.\"\n",
              "              style=\"display:none;\">\n",
              "        \n",
              "  <svg xmlns=\"http://www.w3.org/2000/svg\" height=\"24px\"viewBox=\"0 0 24 24\"\n",
              "       width=\"24px\">\n",
              "    <path d=\"M0 0h24v24H0V0z\" fill=\"none\"/>\n",
              "    <path d=\"M18.56 5.44l.94 2.06.94-2.06 2.06-.94-2.06-.94-.94-2.06-.94 2.06-2.06.94zm-11 1L8.5 8.5l.94-2.06 2.06-.94-2.06-.94L8.5 2.5l-.94 2.06-2.06.94zm10 10l.94 2.06.94-2.06 2.06-.94-2.06-.94-.94-2.06-.94 2.06-2.06.94z\"/><path d=\"M17.41 7.96l-1.37-1.37c-.4-.4-.92-.59-1.43-.59-.52 0-1.04.2-1.43.59L10.3 9.45l-7.72 7.72c-.78.78-.78 2.05 0 2.83L4 21.41c.39.39.9.59 1.41.59.51 0 1.02-.2 1.41-.59l7.78-7.78 2.81-2.81c.8-.78.8-2.07 0-2.86zM5.41 20L4 18.59l7.72-7.72 1.47 1.35L5.41 20z\"/>\n",
              "  </svg>\n",
              "      </button>\n",
              "      \n",
              "  <style>\n",
              "    .colab-df-container {\n",
              "      display:flex;\n",
              "      flex-wrap:wrap;\n",
              "      gap: 12px;\n",
              "    }\n",
              "\n",
              "    .colab-df-convert {\n",
              "      background-color: #E8F0FE;\n",
              "      border: none;\n",
              "      border-radius: 50%;\n",
              "      cursor: pointer;\n",
              "      display: none;\n",
              "      fill: #1967D2;\n",
              "      height: 32px;\n",
              "      padding: 0 0 0 0;\n",
              "      width: 32px;\n",
              "    }\n",
              "\n",
              "    .colab-df-convert:hover {\n",
              "      background-color: #E2EBFA;\n",
              "      box-shadow: 0px 1px 2px rgba(60, 64, 67, 0.3), 0px 1px 3px 1px rgba(60, 64, 67, 0.15);\n",
              "      fill: #174EA6;\n",
              "    }\n",
              "\n",
              "    [theme=dark] .colab-df-convert {\n",
              "      background-color: #3B4455;\n",
              "      fill: #D2E3FC;\n",
              "    }\n",
              "\n",
              "    [theme=dark] .colab-df-convert:hover {\n",
              "      background-color: #434B5C;\n",
              "      box-shadow: 0px 1px 3px 1px rgba(0, 0, 0, 0.15);\n",
              "      filter: drop-shadow(0px 1px 2px rgba(0, 0, 0, 0.3));\n",
              "      fill: #FFFFFF;\n",
              "    }\n",
              "  </style>\n",
              "\n",
              "      <script>\n",
              "        const buttonEl =\n",
              "          document.querySelector('#df-91b19ab6-1053-4ce8-b4f8-08687071a453 button.colab-df-convert');\n",
              "        buttonEl.style.display =\n",
              "          google.colab.kernel.accessAllowed ? 'block' : 'none';\n",
              "\n",
              "        async function convertToInteractive(key) {\n",
              "          const element = document.querySelector('#df-91b19ab6-1053-4ce8-b4f8-08687071a453');\n",
              "          const dataTable =\n",
              "            await google.colab.kernel.invokeFunction('convertToInteractive',\n",
              "                                                     [key], {});\n",
              "          if (!dataTable) return;\n",
              "\n",
              "          const docLinkHtml = 'Like what you see? Visit the ' +\n",
              "            '<a target=\"_blank\" href=https://colab.research.google.com/notebooks/data_table.ipynb>data table notebook</a>'\n",
              "            + ' to learn more about interactive tables.';\n",
              "          element.innerHTML = '';\n",
              "          dataTable['output_type'] = 'display_data';\n",
              "          await google.colab.output.renderOutput(dataTable, element);\n",
              "          const docLink = document.createElement('div');\n",
              "          docLink.innerHTML = docLinkHtml;\n",
              "          element.appendChild(docLink);\n",
              "        }\n",
              "      </script>\n",
              "    </div>\n",
              "  </div>\n",
              "  "
            ]
          },
          "metadata": {},
          "execution_count": 24
        }
      ]
    },
    {
      "cell_type": "code",
      "source": [
        "# Jumlah data limbah pembuangan organics by gosh\n",
        "organics_by_gosh_value = organics.loc[df['dropoff_site'] == 'ORGANICS BY GOSH'].value_counts().sum()\n",
        "organics_by_gosh_value"
      ],
      "metadata": {
        "id": "-yq6HcRgNAwq",
        "outputId": "6fadac28-0168-481c-b336-b62826c55e77",
        "colab": {
          "base_uri": "https://localhost:8080/"
        }
      },
      "execution_count": 25,
      "outputs": [
        {
          "output_type": "execute_result",
          "data": {
            "text/plain": [
              "5705"
            ]
          },
          "metadata": {},
          "execution_count": 25
        }
      ]
    },
    {
      "cell_type": "markdown",
      "source": [
        "- Terdapat 5.705 limbah organik yang dibuang ke tempat pembuangan \"ORGANICS BY GOSH\"."
      ],
      "metadata": {
        "id": "d40DIESqNDlq"
      }
    },
    {
      "cell_type": "code",
      "source": [
        "# Jumlah data jenis limbah organics\n",
        "organics_value = organics.value_counts().sum()\n",
        "organics_value"
      ],
      "metadata": {
        "id": "AR_mk6gONFzu",
        "outputId": "ca0d20a8-086e-4bb3-95d9-2ad96917b521",
        "colab": {
          "base_uri": "https://localhost:8080/"
        }
      },
      "execution_count": 26,
      "outputs": [
        {
          "output_type": "execute_result",
          "data": {
            "text/plain": [
              "5740"
            ]
          },
          "metadata": {},
          "execution_count": 26
        }
      ]
    },
    {
      "cell_type": "markdown",
      "source": [
        "- Terdapat 5.740 jenis limbah sampah organics."
      ],
      "metadata": {
        "id": "o6M72iZnNIkw"
      }
    },
    {
      "cell_type": "code",
      "source": [
        "# Persentase limbah ditempat pembuangan organics by gosh\n",
        "perc = organics_by_gosh_value/ organics_value * 100\n",
        "print(perc, \"%\")"
      ],
      "metadata": {
        "id": "e9yXKeJWNKvb",
        "outputId": "0b97dcaf-151c-4c67-d144-2c94744099ed",
        "colab": {
          "base_uri": "https://localhost:8080/"
        }
      },
      "execution_count": 27,
      "outputs": [
        {
          "output_type": "stream",
          "name": "stdout",
          "text": [
            "99.39024390243902 %\n"
          ]
        }
      ]
    },
    {
      "cell_type": "markdown",
      "source": [
        "- Didapatkan 99,39% limbah organik pada tempat pembuangan \"ORGANICS BY GOSH\""
      ],
      "metadata": {
        "id": "DLpcyK0DNNkt"
      }
    },
    {
      "cell_type": "markdown",
      "source": [
        "> DISTRIBUSI DATA"
      ],
      "metadata": {
        "id": "aHDjHXxgNQRI"
      }
    },
    {
      "cell_type": "code",
      "source": [
        "# Membuat Histogram\n",
        "sns.displot(organics_by_gosh.load_weight, kde = True)"
      ],
      "metadata": {
        "id": "pLknHMatNSdd",
        "outputId": "736c4b95-271c-461c-f92b-43454172d49f",
        "colab": {
          "base_uri": "https://localhost:8080/",
          "height": 523
        }
      },
      "execution_count": 28,
      "outputs": [
        {
          "output_type": "execute_result",
          "data": {
            "text/plain": [
              "<seaborn.axisgrid.FacetGrid at 0x7f5f4ed47bb0>"
            ]
          },
          "metadata": {},
          "execution_count": 28
        },
        {
          "output_type": "display_data",
          "data": {
            "text/plain": [
              "<Figure size 500x500 with 1 Axes>"
            ],
            "image/png": "[encoded data removed]"
          },
          "metadata": {}
        }
      ]
    },
    {
      "cell_type": "markdown",
      "source": [
        "- Setelah melihat bentuk histogram dapat dilakukan perhitungan kemiringan (skew) dengan cara berikut :"
      ],
      "metadata": {
        "id": "zq4tIaICN5rh"
      }
    },
    {
      "cell_type": "code",
      "source": [
        "# Menghitung kemiringan (skew)\n",
        "organics_by_gosh['load_weight'].skew()"
      ],
      "metadata": {
        "id": "cROgr6BJOEFA",
        "outputId": "5b521eff-327a-4319-cc6f-ad2d4f9f8036",
        "colab": {
          "base_uri": "https://localhost:8080/"
        }
      },
      "execution_count": 29,
      "outputs": [
        {
          "output_type": "execute_result",
          "data": {
            "text/plain": [
              "0.07617790250092829"
            ]
          },
          "metadata": {},
          "execution_count": 29
        }
      ]
    },
    {
      "cell_type": "markdown",
      "source": [
        "- Didapat nilai kemiringan sebesar 0,07. Karena kemiringannya mendekati angka 0 maka bisa dikatakan datanya terdistribusi normal dan kemiringannya simetris. Selanjutnya dilakukan pengecekan outlier."
      ],
      "metadata": {
        "id": "G5JPrXokOP3I"
      }
    },
    {
      "cell_type": "markdown",
      "source": [
        "> MENDETEKSI OUTLIER"
      ],
      "metadata": {
        "id": "VRcnhLjsOV-u"
      }
    },
    {
      "cell_type": "code",
      "source": [
        "# Membuat boxplot menggunakan seaborn\n",
        "sns.boxplot(data = organics_by_gosh, y = 'load_weight')"
      ],
      "metadata": {
        "id": "0kaWRliyOabm",
        "outputId": "030ccd09-b65d-4208-c2f9-6a9e448220a4",
        "colab": {
          "base_uri": "https://localhost:8080/",
          "height": 428
        }
      },
      "execution_count": 30,
      "outputs": [
        {
          "output_type": "execute_result",
          "data": {
            "text/plain": [
              "<Axes: ylabel='load_weight'>"
            ]
          },
          "metadata": {},
          "execution_count": 30
        },
        {
          "output_type": "display_data",
          "data": {
            "text/plain": [
              "<Figure size 640x480 with 1 Axes>"
            ],
            "image/png": "[encoded data removed]"
          },
          "metadata": {}
        }
      ]
    },
    {
      "cell_type": "markdown",
      "source": [
        "- Dari gambar diatas terdapat beberapa titik diatas yang menunjukkan adanya outlier. Metode yang digunakan untuk mendeteksi outlier adalah z-score rule karena datanya terdistribusi normal. Langkah selanjutnya dapat mencari central tendency kolom \"load_weight\" dengan tempat pembuangan **ORGANIC BY GOSH**."
      ],
      "metadata": {
        "id": "rTACIHKmYcRW"
      }
    },
    {
      "cell_type": "markdown",
      "source": [
        "> CENTRAL TENDENCY DENGAN ADANYA OUTLIER"
      ],
      "metadata": {
        "id": "XTjk4N0bYfzD"
      }
    },
    {
      "cell_type": "code",
      "source": [
        "# Mean dengan adanya outlier\n",
        "organics_by_gosh_mean = organics_by_gosh['load_weight'].mean()\n",
        "organics_by_gosh_mean"
      ],
      "metadata": {
        "colab": {
          "base_uri": "https://localhost:8080/"
        },
        "id": "7H09FauUYywV",
        "outputId": "2edada7c-98fd-4b7e-aea7-f02fde5c9f63"
      },
      "execution_count": 31,
      "outputs": [
        {
          "output_type": "execute_result",
          "data": {
            "text/plain": [
              "11861.701314636284"
            ]
          },
          "metadata": {},
          "execution_count": 31
        }
      ]
    },
    {
      "cell_type": "markdown",
      "source": [
        "- Nilai rata-rata berat limbah organik yang dibuang ke tempat pembuangan **ORGANICS BY GOSH** sebesar 11.824,14 kg."
      ],
      "metadata": {
        "id": "yi1vDREVY8uL"
      }
    },
    {
      "cell_type": "code",
      "source": [
        "#cari mean karena datanya terdistribusi normal tidak perlu menghitung iqr\n",
        "organics_by_gosh_median = organics_by_gosh['load_weight'].quantile([.25,.50,.75])\n",
        "organics_by_gosh_median"
      ],
      "metadata": {
        "colab": {
          "base_uri": "https://localhost:8080/"
        },
        "id": "JardJ-f1Zb61",
        "outputId": "29238ddb-828b-4232-9149-3a79d109f7ab"
      },
      "execution_count": 32,
      "outputs": [
        {
          "output_type": "execute_result",
          "data": {
            "text/plain": [
              "0.25     8200.0\n",
              "0.50    11940.0\n",
              "0.75    15560.0\n",
              "Name: load_weight, dtype: float64"
            ]
          },
          "metadata": {},
          "execution_count": 32
        }
      ]
    },
    {
      "cell_type": "markdown",
      "source": [
        "- Nilai kuartil 1, kuartil 2 (median) dan nilai kuartil 3 berat limbah organik yang dibuang ke tempat pembuangan **ORGANICS BY GOSH** sebesar 8.155 kg, 11.920 kg dan 15.545 kg."
      ],
      "metadata": {
        "id": "C-fQG8l1Zigl"
      }
    },
    {
      "cell_type": "code",
      "source": [
        "# Modus dengan adanya outlier\n",
        "organics_by_gosh_mode = organics_by_gosh['load_weight'].mode()\n",
        "organics_by_gosh_mode"
      ],
      "metadata": {
        "colab": {
          "base_uri": "https://localhost:8080/"
        },
        "id": "WngEyYQMZoGw",
        "outputId": "7fe9f962-b880-4df2-be4b-645bc2f26d76"
      },
      "execution_count": 33,
      "outputs": [
        {
          "output_type": "execute_result",
          "data": {
            "text/plain": [
              "0    14580.0\n",
              "Name: load_weight, dtype: float64"
            ]
          },
          "metadata": {},
          "execution_count": 33
        }
      ]
    },
    {
      "cell_type": "markdown",
      "source": [
        "- Nilai modus berat limbah organik yang dibuang ke tempat pembuangan **ORGANICS BY GOSH** sebesar 14.580 kg."
      ],
      "metadata": {
        "id": "n3pCSd8dZ-7O"
      }
    },
    {
      "cell_type": "markdown",
      "source": [
        "> MEASURE OF VARIANCE"
      ],
      "metadata": {
        "id": "8WA87mXcaDGh"
      }
    },
    {
      "cell_type": "markdown",
      "source": [
        "- Range"
      ],
      "metadata": {
        "id": "7eW2JQreaJmy"
      }
    },
    {
      "cell_type": "code",
      "source": [
        "# Menentukan range diperlukan nilai min dan\n",
        "organic_range_min = organics_by_gosh[\"load_weight\"].min()\n",
        "organic_range_max = organics_by_gosh[\"load_weight\"].max()"
      ],
      "metadata": {
        "id": "UN3YXrE8aInk"
      },
      "execution_count": 34,
      "outputs": []
    },
    {
      "cell_type": "code",
      "source": [
        "# Range = max - min\n",
        "organic_range = organic_range_max - organic_range_min\n",
        "organic_range"
      ],
      "metadata": {
        "colab": {
          "base_uri": "https://localhost:8080/"
        },
        "id": "GV9hh5b2aUQX",
        "outputId": "ef1a62a1-0ca1-4d50-9e2a-9690ce098a2e"
      },
      "execution_count": 35,
      "outputs": [
        {
          "output_type": "execute_result",
          "data": {
            "text/plain": [
              "29640.0"
            ]
          },
          "metadata": {},
          "execution_count": 35
        }
      ]
    },
    {
      "cell_type": "markdown",
      "source": [
        "- Didapatkan nilai rentang (range) berat limbah organik yang dibuang ke tempat pembuangan **ORGANICS BY GOSH** sebesar 29.640 kg."
      ],
      "metadata": {
        "id": "Ftr1vnMxac1W"
      }
    },
    {
      "cell_type": "markdown",
      "source": [
        "> VARIANCE"
      ],
      "metadata": {
        "id": "LPlG2QSxabvR"
      }
    },
    {
      "cell_type": "code",
      "source": [
        "# Menghitung variance\n",
        "organics_by_gosh['load_weight'].var()"
      ],
      "metadata": {
        "colab": {
          "base_uri": "https://localhost:8080/"
        },
        "id": "K3UM7Ic1amoy",
        "outputId": "f30cf260-375e-47ec-b81f-fd5e09c6c415"
      },
      "execution_count": 37,
      "outputs": [
        {
          "output_type": "execute_result",
          "data": {
            "text/plain": [
              "25350749.50123425"
            ]
          },
          "metadata": {},
          "execution_count": 37
        }
      ]
    },
    {
      "cell_type": "markdown",
      "source": [
        "- Didapat nilai variance 25.350.749,5 yang menunjukkan sebaran data sangat besar dari nilai rata-ratanya."
      ],
      "metadata": {
        "id": "j8r0wcFfarUj"
      }
    },
    {
      "cell_type": "markdown",
      "source": [
        "> STANDART DEVIASI"
      ],
      "metadata": {
        "id": "0O8L2u1oauc5"
      }
    },
    {
      "cell_type": "code",
      "source": [
        "# Menghitung standar deviasi\n",
        "organics_by_gosh_std = organics_by_gosh['load_weight'].std()\n",
        "organics_by_gosh_std"
      ],
      "metadata": {
        "colab": {
          "base_uri": "https://localhost:8080/"
        },
        "id": "CNclahi4azr6",
        "outputId": "738bdd7b-03a9-458c-fa0f-f7d657470209"
      },
      "execution_count": 38,
      "outputs": [
        {
          "output_type": "execute_result",
          "data": {
            "text/plain": [
              "5034.952780437395"
            ]
          },
          "metadata": {},
          "execution_count": 38
        }
      ]
    },
    {
      "cell_type": "markdown",
      "source": [
        "- Didapatkan nilai standar deviasi 5.034,95 yang menunjukkan sebaran data sangat besar dari nilai rata-ratanya."
      ],
      "metadata": {
        "id": "yc9yY1Qfa9Bz"
      }
    },
    {
      "cell_type": "markdown",
      "source": [
        "> MENENTUKAN UPPER LIMIT DAN LOWER LIMIT"
      ],
      "metadata": {
        "id": "DjMxQeZEbCOR"
      }
    },
    {
      "cell_type": "markdown",
      "source": [
        "- Rumus untuk menentukan rentang upper limit outlier dan lower limit outlier\n",
        "```\n",
        "Outliers = mean +/-3 * std\n",
        "```"
      ],
      "metadata": {
        "id": "Ep-YY6kHbKip"
      }
    },
    {
      "cell_type": "code",
      "source": [
        "# Menentukan upper limit\n",
        "outliers_plus = organics_by_gosh_mean + 3*organics_by_gosh_std\n",
        "outliers_plus"
      ],
      "metadata": {
        "colab": {
          "base_uri": "https://localhost:8080/"
        },
        "id": "ALpblMBpbXrf",
        "outputId": "1ee0441e-1f87-493f-a93c-12f113429355"
      },
      "execution_count": 40,
      "outputs": [
        {
          "output_type": "execute_result",
          "data": {
            "text/plain": [
              "26966.55965594847"
            ]
          },
          "metadata": {},
          "execution_count": 40
        }
      ]
    },
    {
      "cell_type": "markdown",
      "source": [
        "- Didapatkan upper limit berat limbah organik yang dibuang ke tempat pembuangan **ORGANICS BY GOSH** sebesar 26,966,55 kg."
      ],
      "metadata": {
        "id": "cZyIE79Ac1t8"
      }
    },
    {
      "cell_type": "code",
      "source": [
        "# Melebihi upper limit\n",
        "organics_by_gosh.loc[organics_by_gosh['load_weight'] > outliers_plus]"
      ],
      "metadata": {
        "colab": {
          "base_uri": "https://localhost:8080/",
          "height": 300
        },
        "id": "wZvYCxzlc68l",
        "outputId": "f7f104a1-4552-49df-fc09-29c77dcaa510"
      },
      "execution_count": 42,
      "outputs": [
        {
          "output_type": "execute_result",
          "data": {
            "text/plain": [
              "      report_date load_type                       load_time  load_weight  \\\n",
              "3443   2021-03-15  ORGANICS  2021-03-15 12:00:00.000000 UTC      27240.0   \n",
              "14594  2021-06-02  ORGANICS  2021-06-02 05:39:00.000000 UTC      28120.0   \n",
              "14759  2021-06-03  ORGANICS  2021-06-03 07:05:00.000000 UTC      29660.0   \n",
              "15165  2021-06-07  ORGANICS  2021-06-07 12:00:00.000000 UTC      29000.0   \n",
              "16120  2021-06-14  ORGANICS  2021-06-14 06:15:00.000000 UTC      29160.0   \n",
              "16299  2021-06-15  ORGANICS  2021-06-15 02:07:00.000000 UTC      27120.0   \n",
              "25825  2021-02-26  ORGANICS  2021-02-26 05:12:00.000000 UTC      27620.0   \n",
              "26116  2021-03-01  ORGANICS  2021-03-01 05:36:00.000000 UTC      27300.0   \n",
              "\n",
              "           dropoff_site  \n",
              "3443   ORGANICS BY GOSH  \n",
              "14594  ORGANICS BY GOSH  \n",
              "14759  ORGANICS BY GOSH  \n",
              "15165  ORGANICS BY GOSH  \n",
              "16120  ORGANICS BY GOSH  \n",
              "16299  ORGANICS BY GOSH  \n",
              "25825  ORGANICS BY GOSH  \n",
              "26116  ORGANICS BY GOSH  "
            ],
            "text/html": [
              "\n",
              "  <div id=\"df-35121a22-62d8-4129-9416-2f4adab78b07\">\n",
              "    <div class=\"colab-df-container\">\n",
              "      <div>\n",
              "<style scoped>\n",
              "    .dataframe tbody tr th:only-of-type {\n",
              "        vertical-align: middle;\n",
              "    }\n",
              "\n",
              "    .dataframe tbody tr th {\n",
              "        vertical-align: top;\n",
              "    }\n",
              "\n",
              "    .dataframe thead th {\n",
              "        text-align: right;\n",
              "    }\n",
              "</style>\n",
              "<table border=\"1\" class=\"dataframe\">\n",
              "  <thead>\n",
              "    <tr style=\"text-align: right;\">\n",
              "      <th></th>\n",
              "      <th>report_date</th>\n",
              "      <th>load_type</th>\n",
              "      <th>load_time</th>\n",
              "      <th>load_weight</th>\n",
              "      <th>dropoff_site</th>\n",
              "    </tr>\n",
              "  </thead>\n",
              "  <tbody>\n",
              "    <tr>\n",
              "      <th>3443</th>\n",
              "      <td>2021-03-15</td>\n",
              "      <td>ORGANICS</td>\n",
              "      <td>2021-03-15 12:00:00.000000 UTC</td>\n",
              "      <td>27240.0</td>\n",
              "      <td>ORGANICS BY GOSH</td>\n",
              "    </tr>\n",
              "    <tr>\n",
              "      <th>14594</th>\n",
              "      <td>2021-06-02</td>\n",
              "      <td>ORGANICS</td>\n",
              "      <td>2021-06-02 05:39:00.000000 UTC</td>\n",
              "      <td>28120.0</td>\n",
              "      <td>ORGANICS BY GOSH</td>\n",
              "    </tr>\n",
              "    <tr>\n",
              "      <th>14759</th>\n",
              "      <td>2021-06-03</td>\n",
              "      <td>ORGANICS</td>\n",
              "      <td>2021-06-03 07:05:00.000000 UTC</td>\n",
              "      <td>29660.0</td>\n",
              "      <td>ORGANICS BY GOSH</td>\n",
              "    </tr>\n",
              "    <tr>\n",
              "      <th>15165</th>\n",
              "      <td>2021-06-07</td>\n",
              "      <td>ORGANICS</td>\n",
              "      <td>2021-06-07 12:00:00.000000 UTC</td>\n",
              "      <td>29000.0</td>\n",
              "      <td>ORGANICS BY GOSH</td>\n",
              "    </tr>\n",
              "    <tr>\n",
              "      <th>16120</th>\n",
              "      <td>2021-06-14</td>\n",
              "      <td>ORGANICS</td>\n",
              "      <td>2021-06-14 06:15:00.000000 UTC</td>\n",
              "      <td>29160.0</td>\n",
              "      <td>ORGANICS BY GOSH</td>\n",
              "    </tr>\n",
              "    <tr>\n",
              "      <th>16299</th>\n",
              "      <td>2021-06-15</td>\n",
              "      <td>ORGANICS</td>\n",
              "      <td>2021-06-15 02:07:00.000000 UTC</td>\n",
              "      <td>27120.0</td>\n",
              "      <td>ORGANICS BY GOSH</td>\n",
              "    </tr>\n",
              "    <tr>\n",
              "      <th>25825</th>\n",
              "      <td>2021-02-26</td>\n",
              "      <td>ORGANICS</td>\n",
              "      <td>2021-02-26 05:12:00.000000 UTC</td>\n",
              "      <td>27620.0</td>\n",
              "      <td>ORGANICS BY GOSH</td>\n",
              "    </tr>\n",
              "    <tr>\n",
              "      <th>26116</th>\n",
              "      <td>2021-03-01</td>\n",
              "      <td>ORGANICS</td>\n",
              "      <td>2021-03-01 05:36:00.000000 UTC</td>\n",
              "      <td>27300.0</td>\n",
              "      <td>ORGANICS BY GOSH</td>\n",
              "    </tr>\n",
              "  </tbody>\n",
              "</table>\n",
              "</div>\n",
              "      <button class=\"colab-df-convert\" onclick=\"convertToInteractive('df-35121a22-62d8-4129-9416-2f4adab78b07')\"\n",
              "              title=\"Convert this dataframe to an interactive table.\"\n",
              "              style=\"display:none;\">\n",
              "        \n",
              "  <svg xmlns=\"http://www.w3.org/2000/svg\" height=\"24px\"viewBox=\"0 0 24 24\"\n",
              "       width=\"24px\">\n",
              "    <path d=\"M0 0h24v24H0V0z\" fill=\"none\"/>\n",
              "    <path d=\"M18.56 5.44l.94 2.06.94-2.06 2.06-.94-2.06-.94-.94-2.06-.94 2.06-2.06.94zm-11 1L8.5 8.5l.94-2.06 2.06-.94-2.06-.94L8.5 2.5l-.94 2.06-2.06.94zm10 10l.94 2.06.94-2.06 2.06-.94-2.06-.94-.94-2.06-.94 2.06-2.06.94z\"/><path d=\"M17.41 7.96l-1.37-1.37c-.4-.4-.92-.59-1.43-.59-.52 0-1.04.2-1.43.59L10.3 9.45l-7.72 7.72c-.78.78-.78 2.05 0 2.83L4 21.41c.39.39.9.59 1.41.59.51 0 1.02-.2 1.41-.59l7.78-7.78 2.81-2.81c.8-.78.8-2.07 0-2.86zM5.41 20L4 18.59l7.72-7.72 1.47 1.35L5.41 20z\"/>\n",
              "  </svg>\n",
              "      </button>\n",
              "      \n",
              "  <style>\n",
              "    .colab-df-container {\n",
              "      display:flex;\n",
              "      flex-wrap:wrap;\n",
              "      gap: 12px;\n",
              "    }\n",
              "\n",
              "    .colab-df-convert {\n",
              "      background-color: #E8F0FE;\n",
              "      border: none;\n",
              "      border-radius: 50%;\n",
              "      cursor: pointer;\n",
              "      display: none;\n",
              "      fill: #1967D2;\n",
              "      height: 32px;\n",
              "      padding: 0 0 0 0;\n",
              "      width: 32px;\n",
              "    }\n",
              "\n",
              "    .colab-df-convert:hover {\n",
              "      background-color: #E2EBFA;\n",
              "      box-shadow: 0px 1px 2px rgba(60, 64, 67, 0.3), 0px 1px 3px 1px rgba(60, 64, 67, 0.15);\n",
              "      fill: #174EA6;\n",
              "    }\n",
              "\n",
              "    [theme=dark] .colab-df-convert {\n",
              "      background-color: #3B4455;\n",
              "      fill: #D2E3FC;\n",
              "    }\n",
              "\n",
              "    [theme=dark] .colab-df-convert:hover {\n",
              "      background-color: #434B5C;\n",
              "      box-shadow: 0px 1px 3px 1px rgba(0, 0, 0, 0.15);\n",
              "      filter: drop-shadow(0px 1px 2px rgba(0, 0, 0, 0.3));\n",
              "      fill: #FFFFFF;\n",
              "    }\n",
              "  </style>\n",
              "\n",
              "      <script>\n",
              "        const buttonEl =\n",
              "          document.querySelector('#df-35121a22-62d8-4129-9416-2f4adab78b07 button.colab-df-convert');\n",
              "        buttonEl.style.display =\n",
              "          google.colab.kernel.accessAllowed ? 'block' : 'none';\n",
              "\n",
              "        async function convertToInteractive(key) {\n",
              "          const element = document.querySelector('#df-35121a22-62d8-4129-9416-2f4adab78b07');\n",
              "          const dataTable =\n",
              "            await google.colab.kernel.invokeFunction('convertToInteractive',\n",
              "                                                     [key], {});\n",
              "          if (!dataTable) return;\n",
              "\n",
              "          const docLinkHtml = 'Like what you see? Visit the ' +\n",
              "            '<a target=\"_blank\" href=https://colab.research.google.com/notebooks/data_table.ipynb>data table notebook</a>'\n",
              "            + ' to learn more about interactive tables.';\n",
              "          element.innerHTML = '';\n",
              "          dataTable['output_type'] = 'display_data';\n",
              "          await google.colab.output.renderOutput(dataTable, element);\n",
              "          const docLink = document.createElement('div');\n",
              "          docLink.innerHTML = docLinkHtml;\n",
              "          element.appendChild(docLink);\n",
              "        }\n",
              "      </script>\n",
              "    </div>\n",
              "  </div>\n",
              "  "
            ]
          },
          "metadata": {},
          "execution_count": 42
        }
      ]
    },
    {
      "cell_type": "markdown",
      "source": [
        "- Terdapat 8 outlier yang melebihi upper limit. Selanjutnya dengan cara yang sama dapat mencari outlier yang melebihi lower limit."
      ],
      "metadata": {
        "id": "0JB6sSpPdKXQ"
      }
    },
    {
      "cell_type": "code",
      "source": [
        "# Menentukan lower limit\n",
        "outliers_minus = organics_by_gosh_mean - 3*organics_by_gosh_std\n",
        "outliers_minus"
      ],
      "metadata": {
        "colab": {
          "base_uri": "https://localhost:8080/"
        },
        "id": "UhQNAO7PdNa2",
        "outputId": "02b260ca-7670-46dc-8385-bd65fe15bacf"
      },
      "execution_count": 43,
      "outputs": [
        {
          "output_type": "execute_result",
          "data": {
            "text/plain": [
              "-3243.157026675901"
            ]
          },
          "metadata": {},
          "execution_count": 43
        }
      ]
    },
    {
      "cell_type": "markdown",
      "source": [
        "- Didapatkan lower limit berat limbah organik yang dibuang ke tempat pembuangan **ORGANICS BY GOSH** sebesar -3.243,16 kg. Selanjutnya menampilkan data mana saja termasuk outlier yang melebihi lower limit."
      ],
      "metadata": {
        "id": "djv3c0JbdZCg"
      }
    },
    {
      "cell_type": "code",
      "source": [
        "# Melebihi lower limit\n",
        "organics_by_gosh.loc[organics_by_gosh['load_weight'] < outliers_minus]"
      ],
      "metadata": {
        "colab": {
          "base_uri": "https://localhost:8080/",
          "height": 49
        },
        "id": "JrPo5N9CdeMS",
        "outputId": "cec726ce-b75a-4355-dac6-c475b399c1ba"
      },
      "execution_count": 45,
      "outputs": [
        {
          "output_type": "execute_result",
          "data": {
            "text/plain": [
              "Empty DataFrame\n",
              "Columns: [report_date, load_type, load_time, load_weight, dropoff_site]\n",
              "Index: []"
            ],
            "text/html": [
              "\n",
              "  <div id=\"df-801b61ee-35c0-4c69-96a9-8a524253a908\">\n",
              "    <div class=\"colab-df-container\">\n",
              "      <div>\n",
              "<style scoped>\n",
              "    .dataframe tbody tr th:only-of-type {\n",
              "        vertical-align: middle;\n",
              "    }\n",
              "\n",
              "    .dataframe tbody tr th {\n",
              "        vertical-align: top;\n",
              "    }\n",
              "\n",
              "    .dataframe thead th {\n",
              "        text-align: right;\n",
              "    }\n",
              "</style>\n",
              "<table border=\"1\" class=\"dataframe\">\n",
              "  <thead>\n",
              "    <tr style=\"text-align: right;\">\n",
              "      <th></th>\n",
              "      <th>report_date</th>\n",
              "      <th>load_type</th>\n",
              "      <th>load_time</th>\n",
              "      <th>load_weight</th>\n",
              "      <th>dropoff_site</th>\n",
              "    </tr>\n",
              "  </thead>\n",
              "  <tbody>\n",
              "  </tbody>\n",
              "</table>\n",
              "</div>\n",
              "      <button class=\"colab-df-convert\" onclick=\"convertToInteractive('df-801b61ee-35c0-4c69-96a9-8a524253a908')\"\n",
              "              title=\"Convert this dataframe to an interactive table.\"\n",
              "              style=\"display:none;\">\n",
              "        \n",
              "  <svg xmlns=\"http://www.w3.org/2000/svg\" height=\"24px\"viewBox=\"0 0 24 24\"\n",
              "       width=\"24px\">\n",
              "    <path d=\"M0 0h24v24H0V0z\" fill=\"none\"/>\n",
              "    <path d=\"M18.56 5.44l.94 2.06.94-2.06 2.06-.94-2.06-.94-.94-2.06-.94 2.06-2.06.94zm-11 1L8.5 8.5l.94-2.06 2.06-.94-2.06-.94L8.5 2.5l-.94 2.06-2.06.94zm10 10l.94 2.06.94-2.06 2.06-.94-2.06-.94-.94-2.06-.94 2.06-2.06.94z\"/><path d=\"M17.41 7.96l-1.37-1.37c-.4-.4-.92-.59-1.43-.59-.52 0-1.04.2-1.43.59L10.3 9.45l-7.72 7.72c-.78.78-.78 2.05 0 2.83L4 21.41c.39.39.9.59 1.41.59.51 0 1.02-.2 1.41-.59l7.78-7.78 2.81-2.81c.8-.78.8-2.07 0-2.86zM5.41 20L4 18.59l7.72-7.72 1.47 1.35L5.41 20z\"/>\n",
              "  </svg>\n",
              "      </button>\n",
              "      \n",
              "  <style>\n",
              "    .colab-df-container {\n",
              "      display:flex;\n",
              "      flex-wrap:wrap;\n",
              "      gap: 12px;\n",
              "    }\n",
              "\n",
              "    .colab-df-convert {\n",
              "      background-color: #E8F0FE;\n",
              "      border: none;\n",
              "      border-radius: 50%;\n",
              "      cursor: pointer;\n",
              "      display: none;\n",
              "      fill: #1967D2;\n",
              "      height: 32px;\n",
              "      padding: 0 0 0 0;\n",
              "      width: 32px;\n",
              "    }\n",
              "\n",
              "    .colab-df-convert:hover {\n",
              "      background-color: #E2EBFA;\n",
              "      box-shadow: 0px 1px 2px rgba(60, 64, 67, 0.3), 0px 1px 3px 1px rgba(60, 64, 67, 0.15);\n",
              "      fill: #174EA6;\n",
              "    }\n",
              "\n",
              "    [theme=dark] .colab-df-convert {\n",
              "      background-color: #3B4455;\n",
              "      fill: #D2E3FC;\n",
              "    }\n",
              "\n",
              "    [theme=dark] .colab-df-convert:hover {\n",
              "      background-color: #434B5C;\n",
              "      box-shadow: 0px 1px 3px 1px rgba(0, 0, 0, 0.15);\n",
              "      filter: drop-shadow(0px 1px 2px rgba(0, 0, 0, 0.3));\n",
              "      fill: #FFFFFF;\n",
              "    }\n",
              "  </style>\n",
              "\n",
              "      <script>\n",
              "        const buttonEl =\n",
              "          document.querySelector('#df-801b61ee-35c0-4c69-96a9-8a524253a908 button.colab-df-convert');\n",
              "        buttonEl.style.display =\n",
              "          google.colab.kernel.accessAllowed ? 'block' : 'none';\n",
              "\n",
              "        async function convertToInteractive(key) {\n",
              "          const element = document.querySelector('#df-801b61ee-35c0-4c69-96a9-8a524253a908');\n",
              "          const dataTable =\n",
              "            await google.colab.kernel.invokeFunction('convertToInteractive',\n",
              "                                                     [key], {});\n",
              "          if (!dataTable) return;\n",
              "\n",
              "          const docLinkHtml = 'Like what you see? Visit the ' +\n",
              "            '<a target=\"_blank\" href=https://colab.research.google.com/notebooks/data_table.ipynb>data table notebook</a>'\n",
              "            + ' to learn more about interactive tables.';\n",
              "          element.innerHTML = '';\n",
              "          dataTable['output_type'] = 'display_data';\n",
              "          await google.colab.output.renderOutput(dataTable, element);\n",
              "          const docLink = document.createElement('div');\n",
              "          docLink.innerHTML = docLinkHtml;\n",
              "          element.appendChild(docLink);\n",
              "        }\n",
              "      </script>\n",
              "    </div>\n",
              "  </div>\n",
              "  "
            ]
          },
          "metadata": {},
          "execution_count": 45
        }
      ]
    },
    {
      "cell_type": "markdown",
      "source": [
        "- Tidak terdapat outlier yang melebihi lower limit.\n",
        "\n",
        "- Didapatkan batas bawah berat limbah organik yang dibuang ke tempat pembuangan ORGANICS BY GOSH sebesar -3.243,16 kg dan batas atas sebesar 26.966.,55 kg."
      ],
      "metadata": {
        "id": "hrlmrrNndyqY"
      }
    },
    {
      "cell_type": "markdown",
      "source": [
        "> PERSENTASE OUTLIER"
      ],
      "metadata": {
        "id": "VrdlH8Jcd6A9"
      }
    },
    {
      "cell_type": "code",
      "source": [
        "# Jumlah outlier\n",
        "organics_by_gosh_outliers_percent = organics_by_gosh.loc[organics_by_gosh['load_weight'] > outliers_plus].value_counts().sum()\n",
        "organics_by_gosh_outliers_percent"
      ],
      "metadata": {
        "colab": {
          "base_uri": "https://localhost:8080/"
        },
        "id": "ZDzeO4FVd-G-",
        "outputId": "3307657d-a40b-46e7-c428-d8e4b159016d"
      },
      "execution_count": 46,
      "outputs": [
        {
          "output_type": "execute_result",
          "data": {
            "text/plain": [
              "8"
            ]
          },
          "metadata": {},
          "execution_count": 46
        }
      ]
    },
    {
      "cell_type": "code",
      "source": [
        "# Jumlah outlier / jumlah sampel\n",
        "organics_by_gosh_o_total = organics_by_gosh_outliers_percent/organics_by_gosh_value * 100\n",
        "print(organics_by_gosh_o_total, '%')"
      ],
      "metadata": {
        "colab": {
          "base_uri": "https://localhost:8080/"
        },
        "id": "qZmq5X2OeDNX",
        "outputId": "1763ca5c-2cc1-4e58-efae-7f19f4b4845d"
      },
      "execution_count": 47,
      "outputs": [
        {
          "output_type": "stream",
          "name": "stdout",
          "text": [
            "0.14022787028921999 %\n"
          ]
        }
      ]
    },
    {
      "cell_type": "markdown",
      "source": [
        "- Didapatkan 0,14 % berat muatan termasuk outlier. Karena persentase outlier nya hanya 0,14 % maka outlier tersebut dapat dihilangkan."
      ],
      "metadata": {
        "id": "G7n0ZuhceIbO"
      }
    },
    {
      "cell_type": "markdown",
      "source": [
        "> MENGHILANGKAN OUTLIER"
      ],
      "metadata": {
        "id": "DoZW2JPQeLBJ"
      }
    },
    {
      "cell_type": "code",
      "source": [
        "#drop index yang termasuk outlier\n",
        "organics_by_gosh.drop(index = [3443,14594,14759,15165,16120,16299,25825,26116], inplace=True)"
      ],
      "metadata": {
        "colab": {
          "base_uri": "https://localhost:8080/"
        },
        "id": "W_-oNN5jeQu_",
        "outputId": "23088191-6256-44f2-9313-76eca3df5f32"
      },
      "execution_count": 48,
      "outputs": [
        {
          "output_type": "stream",
          "name": "stderr",
          "text": [
            "<ipython-input-48-d92922e10696>:2: SettingWithCopyWarning: \n",
            "A value is trying to be set on a copy of a slice from a DataFrame\n",
            "\n",
            "See the caveats in the documentation: https://pandas.pydata.org/pandas-docs/stable/user_guide/indexing.html#returning-a-view-versus-a-copy\n",
            "  organics_by_gosh.drop(index = [3443,14594,14759,15165,16120,16299,25825,26116], inplace=True)\n"
          ]
        }
      ]
    },
    {
      "cell_type": "code",
      "source": [
        "# Menghitung jumlah sampel setelah outlier dihilangkan\n",
        "organics_by_gosh.count()"
      ],
      "metadata": {
        "colab": {
          "base_uri": "https://localhost:8080/"
        },
        "id": "gL0-MSIYefxV",
        "outputId": "5f313e84-a150-4517-b56a-cadaf5cb5585"
      },
      "execution_count": 49,
      "outputs": [
        {
          "output_type": "execute_result",
          "data": {
            "text/plain": [
              "report_date     5697\n",
              "load_type       5697\n",
              "load_time       5697\n",
              "load_weight     5697\n",
              "dropoff_site    5697\n",
              "dtype: int64"
            ]
          },
          "metadata": {},
          "execution_count": 49
        }
      ]
    },
    {
      "cell_type": "markdown",
      "source": [
        "- Setelah outlier dihilangkan jumlah baris yang semula 5.705 sekarang menjadi 5.697. Selanjutnya membuat visualisasi dalam bentuk boxplot."
      ],
      "metadata": {
        "id": "GjPyctHKemgg"
      }
    },
    {
      "cell_type": "code",
      "source": [
        "# Boxplot setelah outlier dihapus\n",
        "sns.boxplot(data=organics_by_gosh, y = 'load_weight')"
      ],
      "metadata": {
        "colab": {
          "base_uri": "https://localhost:8080/",
          "height": 428
        },
        "id": "MsVkZvkJeoA8",
        "outputId": "05f45970-f9c1-4c89-b9e7-020fc8ecc4c8"
      },
      "execution_count": 50,
      "outputs": [
        {
          "output_type": "execute_result",
          "data": {
            "text/plain": [
              "<Axes: ylabel='load_weight'>"
            ]
          },
          "metadata": {},
          "execution_count": 50
        },
        {
          "output_type": "display_data",
          "data": {
            "text/plain": [
              "<Figure size 640x480 with 1 Axes>"
            ],
            "image/png": "[encoded data removed]"
          },
          "metadata": {}
        }
      ]
    },
    {
      "cell_type": "markdown",
      "source": [
        "- Dari gambar diatas dapat dilihat sudah tidak ada outlier seperti sebelumnya. Selanjutnya membuat visualisasi histogram setelah outlier dihilangkan."
      ],
      "metadata": {
        "id": "S2223ZGlex7t"
      }
    },
    {
      "cell_type": "code",
      "source": [
        "# Membuat Histogram\n",
        "sns.displot(organics_by_gosh.load_weight, kde = True)"
      ],
      "metadata": {
        "colab": {
          "base_uri": "https://localhost:8080/",
          "height": 524
        },
        "id": "FArj5MA7ez0c",
        "outputId": "09c4a27d-785f-40dc-bd38-5c7a3de8c26e"
      },
      "execution_count": 51,
      "outputs": [
        {
          "output_type": "execute_result",
          "data": {
            "text/plain": [
              "<seaborn.axisgrid.FacetGrid at 0x7f5f85bbeaa0>"
            ]
          },
          "metadata": {},
          "execution_count": 51
        },
        {
          "output_type": "display_data",
          "data": {
            "text/plain": [
              "<Figure size 500x500 with 1 Axes>"
            ],
            "image/png": "[encoded data removed]"
          },
          "metadata": {}
        }
      ]
    },
    {
      "cell_type": "markdown",
      "source": [
        "- Dari gambar diatas dapat dilihatkan kalau data terdistribusi normal (Gaussian).\n",
        "\n",
        "- Selanjutnya dapat dicari kemiringan (skew) dari data yang outliernya telah dihilangkan."
      ],
      "metadata": {
        "id": "r0FvNJcwfDqD"
      }
    },
    {
      "cell_type": "code",
      "source": [
        "# Menghitung skew / kemiringan\n",
        "organics_by_gosh['load_weight'].skew()"
      ],
      "metadata": {
        "colab": {
          "base_uri": "https://localhost:8080/"
        },
        "id": "QHxb6jGwfINu",
        "outputId": "89a1c317-25fb-445c-ccdd-5a0d93c77f77"
      },
      "execution_count": 52,
      "outputs": [
        {
          "output_type": "execute_result",
          "data": {
            "text/plain": [
              "0.04252980841087013"
            ]
          },
          "metadata": {},
          "execution_count": 52
        }
      ]
    },
    {
      "cell_type": "markdown",
      "source": [
        "- Nilai kemiringan (skew) yaitu 0,043 menunjukan kalau kemiringannya simetris."
      ],
      "metadata": {
        "id": "5qjEKrppfagq"
      }
    },
    {
      "cell_type": "markdown",
      "source": [
        "> CENTRAL TENDENCY TANPA OUTLIER"
      ],
      "metadata": {
        "id": "VWGe_1C9feEO"
      }
    },
    {
      "cell_type": "markdown",
      "source": [
        "- Mean"
      ],
      "metadata": {
        "id": "XMaRt0yggQwe"
      }
    },
    {
      "cell_type": "code",
      "source": [
        "# Menghitung mean\n",
        "organics_by_gosh['load_weight'].mean()"
      ],
      "metadata": {
        "colab": {
          "base_uri": "https://localhost:8080/"
        },
        "id": "ChQ4dXsNfsRP",
        "outputId": "7e55704b-054b-4668-c01e-369bd06a2932"
      },
      "execution_count": 53,
      "outputs": [
        {
          "output_type": "execute_result",
          "data": {
            "text/plain": [
              "11838.824995611725"
            ]
          },
          "metadata": {},
          "execution_count": 53
        }
      ]
    },
    {
      "cell_type": "markdown",
      "source": [
        "- Nilai mean berat limbah organik yang dibuang ke tempat pembuangan **ORGANICS BY GOSH** setelah outlier dihilangkan sebesar 11.838,83 kg."
      ],
      "metadata": {
        "id": "WOU3yk9-gSbC"
      }
    },
    {
      "cell_type": "code",
      "source": [
        "# Menghitung kuartil\n",
        "organics_by_gosh['load_weight'].quantile([0.25,0.50,0.75])"
      ],
      "metadata": {
        "colab": {
          "base_uri": "https://localhost:8080/"
        },
        "id": "_UlQ_3HXgiI-",
        "outputId": "4eea3068-901d-48bf-cb92-efe968b9b01e"
      },
      "execution_count": 54,
      "outputs": [
        {
          "output_type": "execute_result",
          "data": {
            "text/plain": [
              "0.25     8180.0\n",
              "0.50    11940.0\n",
              "0.75    15540.0\n",
              "Name: load_weight, dtype: float64"
            ]
          },
          "metadata": {},
          "execution_count": 54
        }
      ]
    },
    {
      "cell_type": "markdown",
      "source": [
        "- Nilai kuartil 1, kuartil 2 (median) dan kuartil 3 berat limbah organik yang dibuang ke tempat pembuangan ORGANICS BY GOSH setelah outlier dihilangkan sebesar 8.180 kg, 11.940 kg dan 15.540 kg."
      ],
      "metadata": {
        "id": "6y9kpOyvgn3D"
      }
    },
    {
      "cell_type": "markdown",
      "source": [
        "- Modus"
      ],
      "metadata": {
        "id": "BmHyR3xMgrY0"
      }
    },
    {
      "cell_type": "code",
      "source": [
        "# Modus\n",
        "organics_by_gosh.apply(pd.Series.mode)"
      ],
      "metadata": {
        "colab": {
          "base_uri": "https://localhost:8080/",
          "height": 81
        },
        "id": "RS60LnRJgvuT",
        "outputId": "1e72e8a5-e7f8-4c31-9fe0-a7120b763227"
      },
      "execution_count": 55,
      "outputs": [
        {
          "output_type": "execute_result",
          "data": {
            "text/plain": [
              "  report_date load_type                       load_time  load_weight  \\\n",
              "0  2021-04-01  ORGANICS  2021-03-09 12:00:00.000000 UTC      14580.0   \n",
              "\n",
              "       dropoff_site  \n",
              "0  ORGANICS BY GOSH  "
            ],
            "text/html": [
              "\n",
              "  <div id=\"df-246025a3-8494-43b6-a7af-e1de9d6876ad\">\n",
              "    <div class=\"colab-df-container\">\n",
              "      <div>\n",
              "<style scoped>\n",
              "    .dataframe tbody tr th:only-of-type {\n",
              "        vertical-align: middle;\n",
              "    }\n",
              "\n",
              "    .dataframe tbody tr th {\n",
              "        vertical-align: top;\n",
              "    }\n",
              "\n",
              "    .dataframe thead th {\n",
              "        text-align: right;\n",
              "    }\n",
              "</style>\n",
              "<table border=\"1\" class=\"dataframe\">\n",
              "  <thead>\n",
              "    <tr style=\"text-align: right;\">\n",
              "      <th></th>\n",
              "      <th>report_date</th>\n",
              "      <th>load_type</th>\n",
              "      <th>load_time</th>\n",
              "      <th>load_weight</th>\n",
              "      <th>dropoff_site</th>\n",
              "    </tr>\n",
              "  </thead>\n",
              "  <tbody>\n",
              "    <tr>\n",
              "      <th>0</th>\n",
              "      <td>2021-04-01</td>\n",
              "      <td>ORGANICS</td>\n",
              "      <td>2021-03-09 12:00:00.000000 UTC</td>\n",
              "      <td>14580.0</td>\n",
              "      <td>ORGANICS BY GOSH</td>\n",
              "    </tr>\n",
              "  </tbody>\n",
              "</table>\n",
              "</div>\n",
              "      <button class=\"colab-df-convert\" onclick=\"convertToInteractive('df-246025a3-8494-43b6-a7af-e1de9d6876ad')\"\n",
              "              title=\"Convert this dataframe to an interactive table.\"\n",
              "              style=\"display:none;\">\n",
              "        \n",
              "  <svg xmlns=\"http://www.w3.org/2000/svg\" height=\"24px\"viewBox=\"0 0 24 24\"\n",
              "       width=\"24px\">\n",
              "    <path d=\"M0 0h24v24H0V0z\" fill=\"none\"/>\n",
              "    <path d=\"M18.56 5.44l.94 2.06.94-2.06 2.06-.94-2.06-.94-.94-2.06-.94 2.06-2.06.94zm-11 1L8.5 8.5l.94-2.06 2.06-.94-2.06-.94L8.5 2.5l-.94 2.06-2.06.94zm10 10l.94 2.06.94-2.06 2.06-.94-2.06-.94-.94-2.06-.94 2.06-2.06.94z\"/><path d=\"M17.41 7.96l-1.37-1.37c-.4-.4-.92-.59-1.43-.59-.52 0-1.04.2-1.43.59L10.3 9.45l-7.72 7.72c-.78.78-.78 2.05 0 2.83L4 21.41c.39.39.9.59 1.41.59.51 0 1.02-.2 1.41-.59l7.78-7.78 2.81-2.81c.8-.78.8-2.07 0-2.86zM5.41 20L4 18.59l7.72-7.72 1.47 1.35L5.41 20z\"/>\n",
              "  </svg>\n",
              "      </button>\n",
              "      \n",
              "  <style>\n",
              "    .colab-df-container {\n",
              "      display:flex;\n",
              "      flex-wrap:wrap;\n",
              "      gap: 12px;\n",
              "    }\n",
              "\n",
              "    .colab-df-convert {\n",
              "      background-color: #E8F0FE;\n",
              "      border: none;\n",
              "      border-radius: 50%;\n",
              "      cursor: pointer;\n",
              "      display: none;\n",
              "      fill: #1967D2;\n",
              "      height: 32px;\n",
              "      padding: 0 0 0 0;\n",
              "      width: 32px;\n",
              "    }\n",
              "\n",
              "    .colab-df-convert:hover {\n",
              "      background-color: #E2EBFA;\n",
              "      box-shadow: 0px 1px 2px rgba(60, 64, 67, 0.3), 0px 1px 3px 1px rgba(60, 64, 67, 0.15);\n",
              "      fill: #174EA6;\n",
              "    }\n",
              "\n",
              "    [theme=dark] .colab-df-convert {\n",
              "      background-color: #3B4455;\n",
              "      fill: #D2E3FC;\n",
              "    }\n",
              "\n",
              "    [theme=dark] .colab-df-convert:hover {\n",
              "      background-color: #434B5C;\n",
              "      box-shadow: 0px 1px 3px 1px rgba(0, 0, 0, 0.15);\n",
              "      filter: drop-shadow(0px 1px 2px rgba(0, 0, 0, 0.3));\n",
              "      fill: #FFFFFF;\n",
              "    }\n",
              "  </style>\n",
              "\n",
              "      <script>\n",
              "        const buttonEl =\n",
              "          document.querySelector('#df-246025a3-8494-43b6-a7af-e1de9d6876ad button.colab-df-convert');\n",
              "        buttonEl.style.display =\n",
              "          google.colab.kernel.accessAllowed ? 'block' : 'none';\n",
              "\n",
              "        async function convertToInteractive(key) {\n",
              "          const element = document.querySelector('#df-246025a3-8494-43b6-a7af-e1de9d6876ad');\n",
              "          const dataTable =\n",
              "            await google.colab.kernel.invokeFunction('convertToInteractive',\n",
              "                                                     [key], {});\n",
              "          if (!dataTable) return;\n",
              "\n",
              "          const docLinkHtml = 'Like what you see? Visit the ' +\n",
              "            '<a target=\"_blank\" href=https://colab.research.google.com/notebooks/data_table.ipynb>data table notebook</a>'\n",
              "            + ' to learn more about interactive tables.';\n",
              "          element.innerHTML = '';\n",
              "          dataTable['output_type'] = 'display_data';\n",
              "          await google.colab.output.renderOutput(dataTable, element);\n",
              "          const docLink = document.createElement('div');\n",
              "          docLink.innerHTML = docLinkHtml;\n",
              "          element.appendChild(docLink);\n",
              "        }\n",
              "      </script>\n",
              "    </div>\n",
              "  </div>\n",
              "  "
            ]
          },
          "metadata": {},
          "execution_count": 55
        }
      ]
    },
    {
      "cell_type": "markdown",
      "source": [
        "- Nilai modus berat limbah organik yang dibuang ke tempat pembuangan **ORGANICS BY GOSH** setelah outlier dihilangkan sebesar 14.580 kg."
      ],
      "metadata": {
        "id": "Nc9osRyXg4Ck"
      }
    },
    {
      "cell_type": "markdown",
      "source": [
        "> INFORMATION"
      ],
      "metadata": {
        "id": "PiL5roUJg8bz"
      }
    },
    {
      "cell_type": "markdown",
      "source": [
        "- Pemerintah kota Austin berencana membangun tempat pembuangan sampah baru. Beliau meminta analisa dan saran dari kita terkait kapasitas penampungan di tempat pembuangan sampah yang baru berdasarkan perhitungan confidence interval. Berdasarkan pengamatan yang telah dilakukan sebelumnya tentang jenis sampah limbah organis, diasumsikan pemerintah akan membangun tempat pembuangan baru untuk jenis sampah limbah organis. Langkah selanjutnya dapat mencari nilai confidence interval."
      ],
      "metadata": {
        "id": "oaLXQ-tihe8p"
      }
    },
    {
      "cell_type": "markdown",
      "source": [
        "> CONFIDENCE INTERVAL"
      ],
      "metadata": {
        "id": "nBOH5pLVh2MQ"
      }
    },
    {
      "cell_type": "code",
      "source": [
        "# Daily input total dalam per-hari\n",
        "daily_input = organics_by_gosh.groupby(by=\"report_date\",sort=True)[\"load_weight\"].apply(pd.Series.sum).to_frame()"
      ],
      "metadata": {
        "id": "F5x0hmWGh7la"
      },
      "execution_count": 56,
      "outputs": []
    },
    {
      "cell_type": "code",
      "source": [
        "# Asumsi nilai confidence level 0.90\n",
        "confidence_interval = stats.norm.interval(0.90, daily_input.load_weight.mean(), daily_input.load_weight.std())\n",
        "confidence_interval"
      ],
      "metadata": {
        "colab": {
          "base_uri": "https://localhost:8080/"
        },
        "id": "CxER-MK_iJ-a",
        "outputId": "5967b153-46f2-47c8-c532-d9779f195aa1"
      },
      "execution_count": 57,
      "outputs": [
        {
          "output_type": "execute_result",
          "data": {
            "text/plain": [
              "(32949.70342951937, 872362.8603288697)"
            ]
          },
          "metadata": {},
          "execution_count": 57
        }
      ]
    },
    {
      "cell_type": "markdown",
      "source": [
        "- Didapatkan confidence interval berat limbah organik yang dibuang ke tempat pembuangan **ORGANICS BY GOSH** dalam rentang waktu 2021-01-02 hingga 2021-07-08. Artinya jika Pemerintah Kota Austin ingin membangun tempah pembuangan untuk jenis sampah limbah organis harus memiliki kapasitas tampung antara 32.949 kg - 872.363 kg agar efisien."
      ],
      "metadata": {
        "id": "bZtX0pvriYNn"
      }
    },
    {
      "cell_type": "markdown",
      "source": [
        "> HYPOTHESIS TESTING"
      ],
      "metadata": {
        "id": "nZaYP8zDib5x"
      }
    },
    {
      "cell_type": "code",
      "source": [
        "# Jenis sampah atau limbah yang dimuat\n",
        "df_copy[\"load_type\"].value_counts()"
      ],
      "metadata": {
        "colab": {
          "base_uri": "https://localhost:8080/"
        },
        "id": "gDLbN86tilFh",
        "outputId": "df5f1e50-b8d2-4ede-ec26-acc1e2d98ca0"
      },
      "execution_count": 58,
      "outputs": [
        {
          "output_type": "execute_result",
          "data": {
            "text/plain": [
              "GARBAGE COLLECTIONS          8235\n",
              "RECYCLING - SINGLE STREAM    6754\n",
              "ORGANICS                     5740\n",
              "BULK                         1594\n",
              "BRUSH                        1510\n",
              "SWEEPING                      360\n",
              "MIXED LITTER                  328\n",
              "TIRES                         175\n",
              "DEAD ANIMAL                   150\n",
              "YARD TRIMMING                 137\n",
              "RECYCLED METAL                 57\n",
              "LITTER                         41\n",
              "CONTAMINATED RECYCLING          1\n",
              "CONTAMINATED ORGANICS           1\n",
              "Name: load_type, dtype: int64"
            ]
          },
          "metadata": {},
          "execution_count": 58
        }
      ]
    },
    {
      "cell_type": "markdown",
      "source": [
        "- Dapat dilihat terdapat jenis limbah **RECYCLING - SINGLE STREAM** yang menunjukan jenis limbah yang dapat di daur ulang dan jenis limbah organis. Sebelum melakukan uji hipotesis dilakukan perhitungan rata-rata berat muatan per hari untuk jenis limbah daur ulang dan limbah organis."
      ],
      "metadata": {
        "id": "_lFoqWlGiseU"
      }
    },
    {
      "cell_type": "code",
      "source": [
        "# Rata-rata load_weight per hari\n",
        "daily_recycling = df_copy[df_copy['load_type']=='RECYCLING - SINGLE STREAM'][['report_date','load_weight']].groupby('report_date').sum()\n",
        "daily_organics = df_copy[df_copy['load_type']=='ORGANICS'][['report_date','load_weight']].groupby('report_date').sum()\n",
        "\n",
        "print('Average load weight of recycling load type a day: {} kg'.format(np.round(daily_recycling.load_weight.mean())))\n",
        "print('Average load weight of organic load type a day: {} kg'.format(np.round(daily_organics.load_weight.mean())))"
      ],
      "metadata": {
        "colab": {
          "base_uri": "https://localhost:8080/"
        },
        "id": "vM7dbBdfixi8",
        "outputId": "89fa74ba-3dda-4ef9-8796-e5b97229640c"
      },
      "execution_count": 60,
      "outputs": [
        {
          "output_type": "stream",
          "name": "stdout",
          "text": [
            "Average load weight of recycling load type a day: 491651.0 kg\n",
            "Average load weight of organic load type a day: 452376.0 kg\n"
          ]
        }
      ]
    },
    {
      "cell_type": "markdown",
      "source": [
        "- Rata-rata muatan jenis limbah daur ulang per hari sebesar 491.651 kg dan rata-rata muatan untuk jenis limbah organis per hari sebesar 452.376 kg"
      ],
      "metadata": {
        "id": "dInKLYMNjHsj"
      }
    },
    {
      "cell_type": "code",
      "source": [
        "# Visualisasi dalam bentuk histogram\n",
        "sns.displot(daily_recycling.load_weight, kde = True)"
      ],
      "metadata": {
        "colab": {
          "base_uri": "https://localhost:8080/",
          "height": 523
        },
        "id": "qY5ieyOmjVjQ",
        "outputId": "307f9744-c9bd-4840-928d-5e01a6157bb6"
      },
      "execution_count": 61,
      "outputs": [
        {
          "output_type": "execute_result",
          "data": {
            "text/plain": [
              "<seaborn.axisgrid.FacetGrid at 0x7f5f4a989780>"
            ]
          },
          "metadata": {},
          "execution_count": 61
        },
        {
          "output_type": "display_data",
          "data": {
            "text/plain": [
              "<Figure size 500x500 with 1 Axes>"
            ],
            "image/png": "[encoded data removed]"
          },
          "metadata": {}
        }
      ]
    },
    {
      "cell_type": "code",
      "source": [
        "sns.displot(daily_organics.load_weight, kde = True)"
      ],
      "metadata": {
        "colab": {
          "base_uri": "https://localhost:8080/",
          "height": 523
        },
        "id": "2q-d_l5DjoK4",
        "outputId": "a06b04eb-7cd4-47d5-c623-56b1cfd2a24c"
      },
      "execution_count": 62,
      "outputs": [
        {
          "output_type": "execute_result",
          "data": {
            "text/plain": [
              "<seaborn.axisgrid.FacetGrid at 0x7f5f4f1e6fe0>"
            ]
          },
          "metadata": {},
          "execution_count": 62
        },
        {
          "output_type": "display_data",
          "data": {
            "text/plain": [
              "<Figure size 500x500 with 1 Axes>"
            ],
            "image/png": "[encoded data removed]"
          },
          "metadata": {}
        }
      ]
    },
    {
      "cell_type": "markdown",
      "source": [
        "- Dari 2 grafik diatas dapat dilihat kalau berat muatan ke 2 jenis limbah terdistribusi normal.\n",
        "- Asumsi yang digunakan adalah dengan 2 sample 2 tails. Hipotesis yang akan di uji adalah :"
      ],
      "metadata": {
        "id": "XRu5XFfmj449"
      }
    },
    {
      "cell_type": "markdown",
      "source": [
        "1. Hipotesis 0 (Null Hypothesis) : nilai rata-rata berat limbah daur ulang per hari ada perbedaan yang signifikan dengan nilai rata-rata berat limbah organis per hari.\n",
        "\n",
        "2. Hipotesis 1 (Alternative Hypothesis) : nilai rata-rata berat limbah daur ulang per hari tidak ada perbedaan yang signifikan dengan nilai rata-rata berat limbah organis per hari."
      ],
      "metadata": {
        "id": "DlzNyRVpknO4"
      }
    },
    {
      "cell_type": "markdown",
      "source": [
        "```\n",
        "H0 : μ RECYCLING - SINGLE STREAM = μ ORGANICS\n",
        "```\n",
        "\n"
      ],
      "metadata": {
        "id": "8SXNYI_zky33"
      }
    },
    {
      "cell_type": "markdown",
      "source": [
        "```\n",
        "H1 : μ RECYCLING - SINGLE STREAM != μ ORGANICS\n",
        "```"
      ],
      "metadata": {
        "id": "KKv3u2cqlDYa"
      }
    },
    {
      "cell_type": "markdown",
      "source": [
        "- Uji hipotesis dilakukan untuk mengetahui apakah terdapat perbedaan yang signifikan dari nilai rata-rata berat limbah daur ulang per hari dengan nilai rata-rata berat limbah organis per hari."
      ],
      "metadata": {
        "id": "Jxeqznn-lKhX"
      }
    },
    {
      "cell_type": "markdown",
      "source": [
        "> T - TEST"
      ],
      "metadata": {
        "id": "CQmiafPBlT4_"
      }
    },
    {
      "cell_type": "code",
      "source": [
        "# T-test\n",
        "t_stat, p_val = stats.ttest_ind(daily_recycling['load_weight'], daily_organics['load_weight'])\n",
        "print('P-value:',p_val)\n",
        "print('t-statistics:',t_stat)"
      ],
      "metadata": {
        "colab": {
          "base_uri": "https://localhost:8080/"
        },
        "id": "t-Y_Kc-zlZIx",
        "outputId": "9c130697-ca2d-4390-854f-c908fab8f3d8"
      },
      "execution_count": 63,
      "outputs": [
        {
          "output_type": "stream",
          "name": "stdout",
          "text": [
            "P-value: 0.11237805370418401\n",
            "t-statistics: 1.5926006460725861\n"
          ]
        }
      ]
    },
    {
      "cell_type": "markdown",
      "source": [
        "- Didapat nilai P sebesar 0,11 dimana apabila nilai P > 0,05 menunjukkan gagal tolak H0 atau tidak ada perbedaan yang signifikan nilai rata-rata berat muatan per hari jenis limbah daur ulang dan jenis limbah organis. Untuk lebih jelasnya dapat dilihat dari gambar dibawah ini."
      ],
      "metadata": {
        "id": "WSEQn6Z4lnMA"
      }
    },
    {
      "cell_type": "code",
      "source": [
        "# Simulation\n",
        "recycling_pop = np.random.normal(daily_recycling['load_weight'].mean(),daily_recycling['load_weight'].std(),5000)\n",
        "organics_pop = np.random.normal(daily_organics['load_weight'].mean(),daily_organics['load_weight'].std(),5000)\n",
        "\n",
        "confidence_interval = stats.norm.interval(0.95, daily_recycling['load_weight'].mean(), daily_recycling['load_weight'].std())\n",
        "\n",
        "plt.figure(figsize=(16,5))\n",
        "\n",
        "sns.histplot(recycling_pop, label='Recycleable Load Type Average Load Weight a Day *Pop',color='blue')\n",
        "sns.histplot(organics_pop, label='Organic Load Type Average Load Weight a Day *Pop ',color='red')\n",
        "\n",
        "plt.axvline(daily_recycling['load_weight'].mean(), color='yellow', linewidth=2, label='Recyclable Load Type load weight mean')\n",
        "plt.axvline(daily_organics['load_weight'].mean(), color='gray',  linewidth=2, label='Organics Load Type load weight mean')\n",
        "plt.axvline(confidence_interval[1], color='green', linestyle='dashed', linewidth=2, label='confidence threshold of 95%')\n",
        "plt.axvline(confidence_interval[0], color='green', linestyle='dashed', linewidth=2, label='confidence threshold of 95%')\n",
        "plt.axvline(recycling_pop.mean()+t_stat*recycling_pop.std(), color='black', linestyle='dashed', linewidth=2, label = 'Alternative Hypothesis')\n",
        "plt.axvline(recycling_pop.mean()-t_stat*recycling_pop.std(), color='black', linestyle='dashed', linewidth=2)\n",
        "\n",
        "plt.legend()"
      ],
      "metadata": {
        "colab": {
          "base_uri": "https://localhost:8080/",
          "height": 480
        },
        "id": "dco7TnofluXY",
        "outputId": "1934b443-bf3f-4aeb-9679-0e653073849a"
      },
      "execution_count": 65,
      "outputs": [
        {
          "output_type": "execute_result",
          "data": {
            "text/plain": [
              "<matplotlib.legend.Legend at 0x7f5f4aaeded0>"
            ]
          },
          "metadata": {},
          "execution_count": 65
        },
        {
          "output_type": "display_data",
          "data": {
            "text/plain": [
              "<Figure size 1600x500 with 1 Axes>"
            ],
            "image/png": "[encoded data removed]"
          },
          "metadata": {}
        }
      ]
    },
    {
      "cell_type": "markdown",
      "source": [
        "- Dari gambar diatas, bisa dilihat alternative hypothesis (garis putus-putus hitam) berada didalam rentang confidence interval (garis putus-putus hijau). Sehingga dapat ditarik kesimpulan gagal tolak H0 (null hypothesis) yang berarti tidak ada perbedaan yang signifikan nilai rata-rata berat muatan per hari jenis limbah daur ulang dan jenis limbah organik."
      ],
      "metadata": {
        "id": "xpXLqb-5mh9o"
      }
    },
    {
      "cell_type": "markdown",
      "source": [
        "> SARAN"
      ],
      "metadata": {
        "id": "jAvJMK0gmkgK"
      }
    },
    {
      "cell_type": "markdown",
      "source": [
        "Uji hipotesis yang telah dilakukan dapat menjadi saran untuk pemerintah kota Austin sebagai pertimbangan apabila ingin membangun tempat pembuangan baru untuk jenis sampah yang dapat di daur ulang, dikarenakan nilai rata-rata muatan per hari nya tidak jauh berbeda dengan jenis limbah organik yang sebelumnya sudah direncanakan akan dibuat tempat pembuangan yang baru."
      ],
      "metadata": {
        "id": "PUmpv1n2mqUI"
      }
    },
    {
      "cell_type": "markdown",
      "source": [
        "> PROBLEM 1 (stats)"
      ],
      "metadata": {
        "id": "QVCCr2ufm2rj"
      }
    },
    {
      "cell_type": "markdown",
      "source": [
        "1. Teknik apa yang kamu pilih untuk handling outlier? jelaskan alasannya!\n",
        "- Teknik yang digunakan untuk mengatasi outlier adalah z-score rule dikarenakan datanya terdistribusi normal.\n",
        "\n",
        "2. Apa konsep dibalik confidence interval sehingga kita dapat menggunakannya untuk pembangunan tempat pembuangan baru?\n",
        "- Confidence interval digunakan sebagai parameter untuk menentukan keakuratan dari metode pengambilan sampel, Pada kasus pembangunan tempat baru nilai confidence interval didapat dari mean dan standar deviasi data jumlah total berat muatan per hari suatu tempat pembuangan sampah, sehingga didapat rentang confindence interval sebagai acuan untuk menentukan kapasitas tampung sampah.\n",
        "- Confidence interval juga dapat menjadi sebagai tolak ukur untuk uji hipotesis, apabila alternative hypothesis (H1) berada di luar rentang confidence interval menunjukkan tolak null hypothesis (H0). Sebaliknya apabila nilai H1 berada didalam rentang confidence interval menunjukkan gagal tolak H0.\n",
        "\n",
        "3. Jelaskan jenis uji hipotesis apa yang kamu terapkan dan mengapa?\n",
        "- Uji hipotesi yang diterapkan untuk 2 samples 2 tails. Alasan memilih uji hipotesis tersebut karena ingin melihat apakah ada perbedaan yang signifikan nilai rata-rata berat muatan 2 jenis limbah yang berbeda. Dimana hasil uji hipotesis ini dapat menjadi pertimbangan apabila pemerintah kota Austin akan membangun tempat sampah baru khusus untuk jenis sampah tertentu."
      ],
      "metadata": {
        "id": "cR1Pwwq0m7CS"
      }
    },
    {
      "cell_type": "markdown",
      "source": [
        "> MATH / CALCULUS"
      ],
      "metadata": {
        "id": "o-PXB28kn81z"
      }
    },
    {
      "cell_type": "code",
      "source": [
        "# Groupby\n",
        "df1 = df_copy.groupby('report_date')['load_weight'].sum().to_frame()\n",
        "df1"
      ],
      "metadata": {
        "colab": {
          "base_uri": "https://localhost:8080/",
          "height": 455
        },
        "id": "c7Bl6cJEoN6i",
        "outputId": "0782a749-4cc4-44c2-beaf-1aeed0a083b9"
      },
      "execution_count": 66,
      "outputs": [
        {
          "output_type": "execute_result",
          "data": {
            "text/plain": [
              "             load_weight\n",
              "report_date             \n",
              "2021-01-02     2170130.0\n",
              "2021-01-04     2920260.0\n",
              "2021-01-05     2388540.0\n",
              "2021-01-06     2396550.0\n",
              "2021-01-07     2438330.0\n",
              "...                  ...\n",
              "2021-07-05     1897290.0\n",
              "2021-07-06     1921640.0\n",
              "2021-07-07     1553080.0\n",
              "2021-07-08     1417650.0\n",
              "2021-07-09      114840.0\n",
              "\n",
              "[165 rows x 1 columns]"
            ],
            "text/html": [
              "\n",
              "  <div id=\"df-b9d9eb22-f0f3-48e6-b94a-c1f6e176066b\">\n",
              "    <div class=\"colab-df-container\">\n",
              "      <div>\n",
              "<style scoped>\n",
              "    .dataframe tbody tr th:only-of-type {\n",
              "        vertical-align: middle;\n",
              "    }\n",
              "\n",
              "    .dataframe tbody tr th {\n",
              "        vertical-align: top;\n",
              "    }\n",
              "\n",
              "    .dataframe thead th {\n",
              "        text-align: right;\n",
              "    }\n",
              "</style>\n",
              "<table border=\"1\" class=\"dataframe\">\n",
              "  <thead>\n",
              "    <tr style=\"text-align: right;\">\n",
              "      <th></th>\n",
              "      <th>load_weight</th>\n",
              "    </tr>\n",
              "    <tr>\n",
              "      <th>report_date</th>\n",
              "      <th></th>\n",
              "    </tr>\n",
              "  </thead>\n",
              "  <tbody>\n",
              "    <tr>\n",
              "      <th>2021-01-02</th>\n",
              "      <td>2170130.0</td>\n",
              "    </tr>\n",
              "    <tr>\n",
              "      <th>2021-01-04</th>\n",
              "      <td>2920260.0</td>\n",
              "    </tr>\n",
              "    <tr>\n",
              "      <th>2021-01-05</th>\n",
              "      <td>2388540.0</td>\n",
              "    </tr>\n",
              "    <tr>\n",
              "      <th>2021-01-06</th>\n",
              "      <td>2396550.0</td>\n",
              "    </tr>\n",
              "    <tr>\n",
              "      <th>2021-01-07</th>\n",
              "      <td>2438330.0</td>\n",
              "    </tr>\n",
              "    <tr>\n",
              "      <th>...</th>\n",
              "      <td>...</td>\n",
              "    </tr>\n",
              "    <tr>\n",
              "      <th>2021-07-05</th>\n",
              "      <td>1897290.0</td>\n",
              "    </tr>\n",
              "    <tr>\n",
              "      <th>2021-07-06</th>\n",
              "      <td>1921640.0</td>\n",
              "    </tr>\n",
              "    <tr>\n",
              "      <th>2021-07-07</th>\n",
              "      <td>1553080.0</td>\n",
              "    </tr>\n",
              "    <tr>\n",
              "      <th>2021-07-08</th>\n",
              "      <td>1417650.0</td>\n",
              "    </tr>\n",
              "    <tr>\n",
              "      <th>2021-07-09</th>\n",
              "      <td>114840.0</td>\n",
              "    </tr>\n",
              "  </tbody>\n",
              "</table>\n",
              "<p>165 rows × 1 columns</p>\n",
              "</div>\n",
              "      <button class=\"colab-df-convert\" onclick=\"convertToInteractive('df-b9d9eb22-f0f3-48e6-b94a-c1f6e176066b')\"\n",
              "              title=\"Convert this dataframe to an interactive table.\"\n",
              "              style=\"display:none;\">\n",
              "        \n",
              "  <svg xmlns=\"http://www.w3.org/2000/svg\" height=\"24px\"viewBox=\"0 0 24 24\"\n",
              "       width=\"24px\">\n",
              "    <path d=\"M0 0h24v24H0V0z\" fill=\"none\"/>\n",
              "    <path d=\"M18.56 5.44l.94 2.06.94-2.06 2.06-.94-2.06-.94-.94-2.06-.94 2.06-2.06.94zm-11 1L8.5 8.5l.94-2.06 2.06-.94-2.06-.94L8.5 2.5l-.94 2.06-2.06.94zm10 10l.94 2.06.94-2.06 2.06-.94-2.06-.94-.94-2.06-.94 2.06-2.06.94z\"/><path d=\"M17.41 7.96l-1.37-1.37c-.4-.4-.92-.59-1.43-.59-.52 0-1.04.2-1.43.59L10.3 9.45l-7.72 7.72c-.78.78-.78 2.05 0 2.83L4 21.41c.39.39.9.59 1.41.59.51 0 1.02-.2 1.41-.59l7.78-7.78 2.81-2.81c.8-.78.8-2.07 0-2.86zM5.41 20L4 18.59l7.72-7.72 1.47 1.35L5.41 20z\"/>\n",
              "  </svg>\n",
              "      </button>\n",
              "      \n",
              "  <style>\n",
              "    .colab-df-container {\n",
              "      display:flex;\n",
              "      flex-wrap:wrap;\n",
              "      gap: 12px;\n",
              "    }\n",
              "\n",
              "    .colab-df-convert {\n",
              "      background-color: #E8F0FE;\n",
              "      border: none;\n",
              "      border-radius: 50%;\n",
              "      cursor: pointer;\n",
              "      display: none;\n",
              "      fill: #1967D2;\n",
              "      height: 32px;\n",
              "      padding: 0 0 0 0;\n",
              "      width: 32px;\n",
              "    }\n",
              "\n",
              "    .colab-df-convert:hover {\n",
              "      background-color: #E2EBFA;\n",
              "      box-shadow: 0px 1px 2px rgba(60, 64, 67, 0.3), 0px 1px 3px 1px rgba(60, 64, 67, 0.15);\n",
              "      fill: #174EA6;\n",
              "    }\n",
              "\n",
              "    [theme=dark] .colab-df-convert {\n",
              "      background-color: #3B4455;\n",
              "      fill: #D2E3FC;\n",
              "    }\n",
              "\n",
              "    [theme=dark] .colab-df-convert:hover {\n",
              "      background-color: #434B5C;\n",
              "      box-shadow: 0px 1px 3px 1px rgba(0, 0, 0, 0.15);\n",
              "      filter: drop-shadow(0px 1px 2px rgba(0, 0, 0, 0.3));\n",
              "      fill: #FFFFFF;\n",
              "    }\n",
              "  </style>\n",
              "\n",
              "      <script>\n",
              "        const buttonEl =\n",
              "          document.querySelector('#df-b9d9eb22-f0f3-48e6-b94a-c1f6e176066b button.colab-df-convert');\n",
              "        buttonEl.style.display =\n",
              "          google.colab.kernel.accessAllowed ? 'block' : 'none';\n",
              "\n",
              "        async function convertToInteractive(key) {\n",
              "          const element = document.querySelector('#df-b9d9eb22-f0f3-48e6-b94a-c1f6e176066b');\n",
              "          const dataTable =\n",
              "            await google.colab.kernel.invokeFunction('convertToInteractive',\n",
              "                                                     [key], {});\n",
              "          if (!dataTable) return;\n",
              "\n",
              "          const docLinkHtml = 'Like what you see? Visit the ' +\n",
              "            '<a target=\"_blank\" href=https://colab.research.google.com/notebooks/data_table.ipynb>data table notebook</a>'\n",
              "            + ' to learn more about interactive tables.';\n",
              "          element.innerHTML = '';\n",
              "          dataTable['output_type'] = 'display_data';\n",
              "          await google.colab.output.renderOutput(dataTable, element);\n",
              "          const docLink = document.createElement('div');\n",
              "          docLink.innerHTML = docLinkHtml;\n",
              "          element.appendChild(docLink);\n",
              "        }\n",
              "      </script>\n",
              "    </div>\n",
              "  </div>\n",
              "  "
            ]
          },
          "metadata": {},
          "execution_count": 66
        }
      ]
    },
    {
      "cell_type": "markdown",
      "source": [
        "- Tabel diatas menujukkan dataset yang sudah dikelompokkan berdasarkan tanggal dan berat muatan"
      ],
      "metadata": {
        "id": "KW1y7O8FoUBw"
      }
    },
    {
      "cell_type": "markdown",
      "source": [
        "- Selanjutnya melakukan perhitungan v (laju percepatan ) dengan rumus :"
      ],
      "metadata": {
        "id": "amNbMa-voYMc"
      }
    },
    {
      "cell_type": "markdown",
      "source": [
        "![1.png](data:image/png;base64,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)"
      ],
      "metadata": {
        "id": "mu02MNGBodWr"
      }
    },
    {
      "cell_type": "markdown",
      "source": [
        "- 1 adalah notasi untuk hari ini (9 Juli 2021) dan 0 adalah notasi untuk hari sebelumnya"
      ],
      "metadata": {
        "id": "fjwbG9bBo16s"
      }
    },
    {
      "cell_type": "code",
      "source": [
        "v = np.diff(df1['load_weight']) / np.diff(range(len(df1)))"
      ],
      "metadata": {
        "id": "76VQOqyZo62M"
      },
      "execution_count": 67,
      "outputs": []
    },
    {
      "cell_type": "markdown",
      "source": [
        "- Setelah mendapatkan laju percepatan selanjutnya dapat dilakukan prediksi berat muatan untuk hari berikutnya dengan menggunakan rumus :"
      ],
      "metadata": {
        "id": "FJvI8hsSpL5f"
      }
    },
    {
      "cell_type": "markdown",
      "source": [
        "![2.png](data:image/png;base64,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)"
      ],
      "metadata": {
        "id": "viGwC3AfpPtU"
      }
    },
    {
      "cell_type": "code",
      "source": [
        "# w Hari ini adalah load_weight 9 juli 2021\n",
        "# Δt = 1 karena untuk 1 hari ke depan (besok)\n",
        "# index -1 data paling terakhir\n",
        "load_weight_tommorow = df1['load_weight'][-1] + v[-1] * 1\n",
        "abs(load_weight_tommorow) # abs agar nilainya tidak minus"
      ],
      "metadata": {
        "colab": {
          "base_uri": "https://localhost:8080/"
        },
        "id": "stEXiD62pWDX",
        "outputId": "b5edfda3-0d29-40b5-ceb1-c8f551b15444"
      },
      "execution_count": 68,
      "outputs": [
        {
          "output_type": "execute_result",
          "data": {
            "text/plain": [
              "1187970.0"
            ]
          },
          "metadata": {},
          "execution_count": 68
        }
      ]
    },
    {
      "cell_type": "markdown",
      "source": [
        "- Didapatkan perkiraan berat muatan sampah dihari esok (10 Juli 2021) sebesar 1.187.970 kg."
      ],
      "metadata": {
        "id": "yBVfB6m0qFBG"
      }
    },
    {
      "cell_type": "markdown",
      "source": [
        "> PROBLEM 2 (math)"
      ],
      "metadata": {
        "id": "lMLXsVgPqILj"
      }
    },
    {
      "cell_type": "markdown",
      "source": [
        "1. Untuk menghitung turunan pertama dapat digunakan metode simbolik dan numerik, untuk kasus ini, teknik apa yang kamu gunakan?\n",
        "- Pada kasus ini metode yang digunakan adalah numerik yaitu fungsi numpy.diff().\n",
        "\n",
        "2. Apakah kamu membutuhkan fungsi matematis untuk menghitung turunannya? (ya/tidak) berikan alasanmu!\n",
        "- Ya, diperlukan fungsi matematis untuk menghitung turunan. Dari rumus yang diberikan kita dapat menghitung dengan memasukkan nilai (value) dari data yang kita punya. Dengan begitu kita bisa menghitung turunan untuk memperkirakan berat muatan sampah di hari esok.\n",
        "\n",
        "3. Berapa load weight yang kamu perkirakan di hari esok (10 Juli 2021)?\n",
        "- Perkiraan berat muatan sampah dihari esok (10 Juli 2021) sebesar 1.187.970 kg."
      ],
      "metadata": {
        "id": "_bvu34EhqTpo"
      }
    },
    {
      "cell_type": "markdown",
      "source": [
        "> KESIMPULAN"
      ],
      "metadata": {
        "id": "0J2ZZ9woqn2i"
      }
    },
    {
      "cell_type": "markdown",
      "source": [
        "Dari hasil analisa data diketahui bahwa pengelolaan sampah di kota Austin kurang begitu bagus terutama hal pendistribusian sampah ke lokasi pembuangan. Terdapat beberapa data yang terduplikasi dan data berat muatan yang hilang. Karena distribusi sampah yang kurang merata, kemungkinan akan terjadi penumpukkan sampah di suatu tempat pembuangan yang dapat menimbulkan masalah di masa yang akan datang. Oleh karena itu distribusi sampah harus merata agar dapat dikelola dengan baik dan tidak ada masalah di masa yang akan datang."
      ],
      "metadata": {
        "id": "afL-041Fqsci"
      }
    }
  ]
}